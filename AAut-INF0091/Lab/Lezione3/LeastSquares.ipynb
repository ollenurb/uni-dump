{
 "cells": [
  {
   "cell_type": "code",
   "execution_count": 2,
   "metadata": {},
   "outputs": [],
   "source": [
    "import numpy as np\n",
    "import matplotlib.pyplot as plt\n",
    "from sklearn.preprocessing import PolynomialFeatures"
   ]
  },
  {
   "cell_type": "markdown",
   "metadata": {},
   "source": [
    "# Creating the dataset\n",
    "\n",
    "Let us start by creating a dataset representing a noisy cubic polynomial with equation $-0.2 x^3 + \\mu$, where $\\mu \\sim \\mathcal{N}(0, 4)$ is the *noise factor*"
   ]
  },
  {
   "cell_type": "code",
   "execution_count": 3,
   "metadata": {},
   "outputs": [],
   "source": [
    "np.random.seed(42)\n",
    "X = (np.random.rand(100, 1) - 0.5) * 10 # extract 100 numbers on one dimension\n",
    "y = -0.2 * X**3 + np.random.normal(loc=0, scale=2, size=[100,1])"
   ]
  },
  {
   "cell_type": "markdown",
   "metadata": {},
   "source": [
    "We can also visualize the dataset by plotting it, yielding"
   ]
  },
  {
   "cell_type": "code",
   "execution_count": 4,
   "metadata": {},
   "outputs": [
    {
     "data": {
      "text/plain": [
       "<matplotlib.collections.PathCollection at 0x7f026978feb0>"
      ]
     },
     "execution_count": 4,
     "metadata": {},
     "output_type": "execute_result"
    },
    {
     "data": {
      "image/png": "[encoded data removed]",
      "text/plain": [
       "<Figure size 432x288 with 1 Axes>"
      ]
     },
     "metadata": {
      "needs_background": "light"
     },
     "output_type": "display_data"
    }
   ],
   "source": [
    "plt.scatter(X,y)"
   ]
  },
  {
   "cell_type": "markdown",
   "metadata": {},
   "source": [
    "We need the data to be in homogeneous coordinates, so we first define a column vector of ones\n",
    "$$\n",
    "\\textbf{ones} = \\begin{pmatrix}\n",
    "1 \\\\\n",
    "1 \\\\\n",
    "\\vdots \\\\\n",
    "1\n",
    "\\end{pmatrix}\n",
    "$$\n",
    "and then we define the homogeneus coordinates matrix\n",
    "$$\n",
    "XX = X \\; | \\; \\textbf{ones}\n",
    "$$"
   ]
  },
  {
   "cell_type": "code",
   "execution_count": 9,
   "metadata": {},
   "outputs": [],
   "source": [
    "# Define a column array made of only ones\n",
    "ones = np.ones((len(X),1),  dtype=int)\n",
    "XX = np.column_stack((X, ones))"
   ]
  },
  {
   "cell_type": "markdown",
   "metadata": {},
   "source": [
    "# Define the least square \"solver\"\n",
    "\n",
    "Recall from the theory that the least square solver is given by the following equation\n",
    "$$\n",
    "\\hat{w} = (X^T X)^{-1} X^T y\n",
    "$$"
   ]
  },
  {
   "cell_type": "code",
   "execution_count": 44,
   "metadata": {},
   "outputs": [],
   "source": [
    "def least_squares(X, y):\n",
    "    return np.linalg.inv(X.T @ X) @ X.T @ y\n",
    "\n",
    "# (My bad previous normalized version :S)\n",
    "# def least_squares(X, y, lam):\n",
    "#     X_t = np.transpose(X)\n",
    "#     Lam = np.eye(len(X_t), len(X_t)) * lam\n",
    "#     X_t_X = np.matmul(X_t, X)\n",
    "#     X_inv = inv(X_t_X + Lam)\n",
    "#     X_t_y = np.matmul(X_t, y)\n",
    "#     return np.matmul(X_inv, X_t_y)"
   ]
  },
  {
   "cell_type": "markdown",
   "metadata": {},
   "source": [
    "Apply it to our data"
   ]
  },
  {
   "cell_type": "code",
   "execution_count": 16,
   "metadata": {},
   "outputs": [
    {
     "name": "stdout",
     "output_type": "stream",
     "text": [
      "[[-3.10224715]\n",
      " [ 0.06642012]]\n"
     ]
    }
   ],
   "source": [
    "ww = least_squares(XX, y)\n",
    "print(ww)"
   ]
  },
  {
   "cell_type": "markdown",
   "metadata": {},
   "source": [
    "It's time to plot results, let start by generating new points in the interval $[-5,5]$ and compute the $y$ using the solution found by least squares."
   ]
  },
  {
   "cell_type": "code",
   "execution_count": 36,
   "metadata": {},
   "outputs": [
    {
     "data": {
      "text/plain": [
       "[<matplotlib.lines.Line2D at 0x7f026954cd00>]"
      ]
     },
     "execution_count": 36,
     "metadata": {},
     "output_type": "execute_result"
    },
    {
     "data": {
      "image/png": "[encoded data removed]",
      "text/plain": [
       "<Figure size 432x288 with 1 Axes>"
      ]
     },
     "metadata": {
      "needs_background": "light"
     },
     "output_type": "display_data"
    }
   ],
   "source": [
    "xs = np.linspace(-5, 5)\n",
    "# Transform the data into Homogeneus coordinates\n",
    "xxs = np.column_stack((xs, np.ones((50, 1))))\n",
    "# Predict the values\n",
    "ys = xxs @ ww\n",
    "\n",
    "# We can now plot the value using matplotlib\n",
    "plt.scatter(X,y) # in scatterplots, points are connected by segments\n",
    "plt.plot(xs, ys, c='r', lw=2)"
   ]
  },
  {
   "cell_type": "markdown",
   "metadata": {},
   "source": [
    "# Solving a non-linear problem using the \"slow\" kernel trick\n",
    "\n",
    "We will use the sklearn **PolynomialFeatures** class to preprocess our data by mapping them into a \"polynomial space\". Since our model is 2-Dimensional (a line) we will need a space able to represent all polynomials of degree 3. Plus, in this case we even know that the data comes from a polynomial of degree 3."
   ]
  },
  {
   "cell_type": "code",
   "execution_count": 40,
   "metadata": {},
   "outputs": [],
   "source": [
    "# the parameter include_bias simply puts automatically the column of ones, therefore automatically transforming the data in homogeneus coordinates\n",
    "polyfeatures = PolynomialFeatures(degree=3, include_bias=True)\n",
    "polyfeatures.fit(X)\n",
    "polyX = polyfeatures.transform(X) \n",
    "# We could have done those last steps with a single .fit_transform(X) function call"
   ]
  },
  {
   "cell_type": "markdown",
   "metadata": {},
   "source": [
    "Now we can use our `least_squares` solver to find a solution in the transformed space..."
   ]
  },
  {
   "cell_type": "code",
   "execution_count": 41,
   "metadata": {},
   "outputs": [],
   "source": [
    "polyww = least_squares(polyX, y)"
   ]
  },
  {
   "cell_type": "markdown",
   "metadata": {},
   "source": [
    "Generate new data to plot the solution (again, using `linspace` to generate points in the interval $[-5,5]$)."
   ]
  },
  {
   "cell_type": "code",
   "execution_count": 42,
   "metadata": {},
   "outputs": [],
   "source": [
    "xs = np.linspace(-5, 5, 100).reshape(-1,1)\n",
    "polyxs = polyfeatures.transform(xs)\n",
    "polyys = polyxs @ polyww"
   ]
  },
  {
   "cell_type": "markdown",
   "metadata": {},
   "source": [
    "We can now plot the data and our solution"
   ]
  },
  {
   "cell_type": "code",
   "execution_count": 45,
   "metadata": {},
   "outputs": [
    {
     "data": {
      "text/plain": [
       "[<matplotlib.lines.Line2D at 0x7f0266b3f580>]"
      ]
     },
     "execution_count": 45,
     "metadata": {},
     "output_type": "execute_result"
    },
    {
     "data": {
      "image/png": "[encoded data removed]",
      "text/plain": [
       "<Figure size 432x288 with 1 Axes>"
      ]
     },
     "metadata": {
      "needs_background": "light"
     },
     "output_type": "display_data"
    }
   ],
   "source": [
    "plt.scatter(X,y)\n",
    "plt.plot(xs, polyys, c='r',lw=2)"
   ]
  },
  {
   "cell_type": "markdown",
   "metadata": {},
   "source": [
    "# This kernel trick is slow!\n",
    "We will show now that the trick that we have done previously it is in fact pretty slow, especially in cases where the dimensions are high. We can prove that the higher the dimension the slower the compute time is going to be."
   ]
  },
  {
   "cell_type": "code",
   "execution_count": 53,
   "metadata": {},
   "outputs": [
    {
     "name": "stdout",
     "output_type": "stream",
     "text": [
      "1 \t Num Features         14 Time 0.0002s\n",
      "2 \t Num Features        105 Time 0.0003s\n",
      "3 \t Num Features        560 Time 0.0012s\n",
      "4 \t Num Features       2380 Time 0.0010s\n",
      "5 \t Num Features       8568 Time 0.0023s\n",
      "6 \t Num Features      27132 Time 0.0116s\n",
      "7 \t Num Features      77520 Time 0.0369s\n",
      "8 \t Num Features     203490 Time 0.0712s\n",
      "9 \t Num Features     497420 Time 0.1462s\n",
      "10 \t Num Features    1144066 Time 0.3219s\n",
      "11 \t Num Features    2496144 Time 0.6947s\n",
      "12 \t Num Features    5200300 Time 1.4417s\n",
      "13 \t Num Features   10400600 Time 3.2270s\n"
     ]
    },
    {
     "data": {
      "text/plain": [
       "[<matplotlib.lines.Line2D at 0x7f0266aa1c40>]"
      ]
     },
     "execution_count": 53,
     "metadata": {},
     "output_type": "execute_result"
    },
    {
     "data": {
      "image/png": "[encoded data removed]",
      "text/plain": [
       "<Figure size 432x288 with 1 Axes>"
      ]
     },
     "metadata": {
      "needs_background": "light"
     },
     "output_type": "display_data"
    }
   ],
   "source": [
    "import time\n",
    "\n",
    "X = np.random.rand(100, 13) # generate 100 points in a 13-dimension (13 features)\n",
    "results_degrees = []\n",
    "results_times = []\n",
    "\n",
    "for i in range(13):\n",
    "    poly = PolynomialFeatures(degree = i+1)\n",
    "    \n",
    "    start = time.time()\n",
    "    polyX = poly.fit_transform(X)\n",
    "    end = time.time()\n",
    "    \n",
    "    results_degrees.append(i+1)\n",
    "    results_times.append(end - start)\n",
    "    \n",
    "    print(\"{} \\t Num Features {:10d} Time {:2.4f}s\".format(i+1, polyX.shape[1], end-start))\n",
    "    \n",
    "plt.plot(results_degrees, results_times)"
   ]
  }
 ],
 "metadata": {
  "interpreter": {
   "hash": "a8f988e3caeab6af02c276e3f8734bb14eff656972cb168ab30b75f4485a2a22"
  },
  "kernelspec": {
   "display_name": "Python 3.8.9 64-bit",
   "name": "python3"
  },
  "language_info": {
   "codemirror_mode": {
    "name": "ipython",
    "version": 3
   },
   "file_extension": ".py",
   "mimetype": "text/x-python",
   "name": "python",
   "nbconvert_exporter": "python",
   "pygments_lexer": "ipython3",
   "version": "3.8.9"
  }
 },
 "nbformat": 4,
 "nbformat_minor": 2
}
