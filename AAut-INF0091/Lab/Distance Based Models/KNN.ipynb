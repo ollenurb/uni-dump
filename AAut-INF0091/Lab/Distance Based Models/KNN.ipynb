{
 "cells": [
  {
   "cell_type": "markdown",
   "metadata": {
    "id": "VbORlHDOEYTE"
   },
   "source": [
    "# Classifiers comparison: decision trees and k-nearest neighbors on the dataset Iris\n",
    "\n",
    "\n",
    "In the following program we compare the prediction results obtained by decision trees and k-nearest neighbors on the dataset Iris"
   ]
  },
  {
   "cell_type": "markdown",
   "metadata": {
    "collapsed": true,
    "id": "iFRSTXNDEYTG"
   },
   "source": [
    "The following cell shows the program training a decision tree and its results in prediction "
   ]
  },
  {
   "cell_type": "code",
   "execution_count": 1,
   "metadata": {
    "colab": {
     "base_uri": "https://localhost:8080/"
    },
    "id": "X7fYOeG3EYTH",
    "outputId": "94c06325-bd74-47a6-92b7-8e6158afddd2"
   },
   "outputs": [
    {
     "name": "stdout",
     "output_type": "stream",
     "text": [
      "[0.96666667 1.         0.86666667 0.86666667 1.        ]\n"
     ]
    }
   ],
   "source": [
    "from sklearn import tree \n",
    "from sklearn.datasets import load_iris\n",
    "from sklearn.model_selection import cross_val_score # will be used to separate training and test\n",
    "\n",
    "iris = load_iris()\n",
    "clf = tree.DecisionTreeClassifier(criterion=\"entropy\", random_state=300, min_samples_leaf=5, class_weight={0:1,1:1,2:1})\n",
    "clf = clf.fit(iris.data, iris.target)\n",
    "scores = cross_val_score(clf, iris.data, iris.target, cv=5) # score will be the accuracy\n",
    "print(scores)"
   ]
  },
  {
   "cell_type": "markdown",
   "metadata": {
    "id": "O6Stp1gpEYTP"
   },
   "source": [
    "The following cell shows the training of k-nearest neighbors and its prediction results.\n",
    "Here we use a uniform weighting setting (weights='uniform'): any neighbors weights the same in the majority voting aggregation."
   ]
  },
  {
   "cell_type": "code",
   "execution_count": 2,
   "metadata": {
    "colab": {
     "base_uri": "https://localhost:8080/"
    },
    "id": "OZAavM5qEYTQ",
    "outputId": "75239f26-c991-4aa5-af30-4e1e11e60e34"
   },
   "outputs": [
    {
     "name": "stdout",
     "output_type": "stream",
     "text": [
      "[0.93333333 1.         1.         0.96666667 1.        ]\n"
     ]
    }
   ],
   "source": [
    "from sklearn import neighbors\n",
    "n_neighbors = 11 # the numbner of nearest neighbors (also known as k)\n",
    "clf_knn = neighbors.KNeighborsClassifier(n_neighbors, weights='uniform')\n",
    "clf_knn = clf_knn.fit(iris.data, iris.target)\n",
    "scores = cross_val_score(clf_knn, iris.data, iris.target, cv=5) # score will be the accuracy\n",
    "print(scores)"
   ]
  },
  {
   "cell_type": "markdown",
   "metadata": {
    "id": "YVI8abkeEYTV"
   },
   "source": [
    "In the following cell we use a varying weighting setting (weights='distance'): any neighbors weights inversely with its distance to the test instance in the majority voting aggregation."
   ]
  },
  {
   "cell_type": "code",
   "execution_count": 3,
   "metadata": {
    "colab": {
     "base_uri": "https://localhost:8080/"
    },
    "id": "dxC1EypXEYTV",
    "outputId": "04a3ea00-6045-4507-e3c8-98bc124b4a5b",
    "scrolled": true
   },
   "outputs": [
    {
     "name": "stdout",
     "output_type": "stream",
     "text": [
      "Classification score of k-nn with distance weighting\n",
      "[0.96666667 1.         1.         0.96666667 1.        ]\n"
     ]
    }
   ],
   "source": [
    "n_neighbors = 11\n",
    "clf_knn2 = neighbors.KNeighborsClassifier(n_neighbors, weights='distance')\n",
    "clf_knn2.fit(iris.data, iris.target)\n",
    "\n",
    "print(\"Classification score of k-nn with distance weighting\")\n",
    "scores2 = cross_val_score(clf_knn2, iris.data, iris.target, cv=5,scoring='accuracy') # score will be the accuracy\n",
    "print(scores2)"
   ]
  },
  {
   "cell_type": "markdown",
   "metadata": {
    "id": "_Wpx4NW0EYTa"
   },
   "source": [
    "The following cell shows the tuning of the k-nn models with a varying value of k (number of nearest neighbors) and finds the best value of k (giving the maximum accuracy)."
   ]
  },
  {
   "cell_type": "code",
   "execution_count": 4,
   "metadata": {
    "colab": {
     "base_uri": "https://localhost:8080/",
     "height": 1000
    },
    "id": "-jhdpzK2EYTa",
    "outputId": "6eadc375-90cb-46bf-d6eb-237b942ff42f",
    "scrolled": false
   },
   "outputs": [
    {
     "name": "stdout",
     "output_type": "stream",
     "text": [
      "k neighbors: 1\n",
      "Accuracy: 0.9166666666666666\n",
      "k neighbors: 2\n",
      "Accuracy: 0.9166666666666666\n",
      "k neighbors: 3\n",
      "Accuracy: 0.9333333333333333\n",
      "k neighbors: 4\n",
      "Accuracy: 0.9166666666666666\n",
      "k neighbors: 5\n",
      "Accuracy: 0.95\n",
      "k neighbors: 6\n",
      "Accuracy: 0.9333333333333333\n",
      "k neighbors: 7\n",
      "Accuracy: 0.9666666666666667\n",
      "k neighbors: 8\n",
      "Accuracy: 0.9333333333333333\n",
      "k neighbors: 9\n",
      "Accuracy: 0.9666666666666667\n",
      "k neighbors: 10\n",
      "Accuracy: 0.9666666666666667\n",
      "k neighbors: 11\n",
      "Accuracy: 0.9666666666666667\n",
      "k neighbors: 12\n",
      "Accuracy: 0.9666666666666667\n",
      "k neighbors: 13\n",
      "Accuracy: 0.9666666666666667\n",
      "k neighbors: 14\n",
      "Accuracy: 0.95\n",
      "k neighbors: 15\n",
      "Accuracy: 0.95\n",
      "k neighbors: 16\n",
      "Accuracy: 0.9166666666666666\n",
      "k neighbors: 17\n",
      "Accuracy: 0.9333333333333333\n",
      "k neighbors: 18\n",
      "Accuracy: 0.9166666666666666\n",
      "k neighbors: 19\n",
      "Accuracy: 0.9166666666666666\n",
      "k neighbors: 20\n",
      "Accuracy: 0.9166666666666666\n",
      "k neighbors: 21\n",
      "Accuracy: 0.9166666666666666\n",
      "k neighbors: 22\n",
      "Accuracy: 0.9166666666666666\n",
      "k neighbors: 23\n",
      "Accuracy: 0.9166666666666666\n",
      "k neighbors: 24\n",
      "Accuracy: 0.9\n",
      "k neighbors: 25\n",
      "Accuracy: 0.9166666666666666\n",
      "k neighbors: 26\n",
      "Accuracy: 0.9166666666666666\n",
      "k neighbors: 27\n",
      "Accuracy: 0.9333333333333333\n",
      "k neighbors: 28\n",
      "Accuracy: 0.9333333333333333\n",
      "k neighbors: 29\n",
      "Accuracy: 0.9333333333333333\n",
      "k neighbors: 30\n",
      "Accuracy: 0.9166666666666666\n",
      "k neighbors: 31\n",
      "Accuracy: 0.9333333333333333\n",
      "k neighbors: 32\n",
      "Accuracy: 0.9166666666666666\n",
      "k neighbors: 33\n",
      "Accuracy: 0.9333333333333333\n",
      "k neighbors: 34\n",
      "Accuracy: 0.9166666666666666\n",
      "k neighbors: 35\n",
      "Accuracy: 0.9333333333333333\n",
      "k neighbors: 36\n",
      "Accuracy: 0.9166666666666666\n",
      "k neighbors: 37\n",
      "Accuracy: 0.9333333333333333\n",
      "k neighbors: 38\n",
      "Accuracy: 0.9\n",
      "k neighbors: 39\n",
      "Accuracy: 0.9166666666666666\n",
      "k neighbors: 40\n",
      "Accuracy: 0.9166666666666666\n",
      "k neighbors: 41\n",
      "Accuracy: 0.9333333333333333\n",
      "k neighbors: 42\n",
      "Accuracy: 0.9333333333333333\n",
      "k neighbors: 43\n",
      "Accuracy: 0.9333333333333333\n",
      "k neighbors: 44\n",
      "Accuracy: 0.9166666666666666\n",
      "k neighbors: 45\n",
      "Accuracy: 0.9333333333333333\n",
      "k neighbors: 46\n",
      "Accuracy: 0.9166666666666666\n",
      "k neighbors: 47\n",
      "Accuracy: 0.9166666666666666\n",
      "k neighbors: 48\n",
      "Accuracy: 0.9166666666666666\n",
      "k neighbors: 49\n",
      "Accuracy: 0.9166666666666666\n",
      "k neighbors: 50\n",
      "Accuracy: 0.9166666666666666\n",
      "k neighbors: 51\n",
      "Accuracy: 0.9333333333333333\n",
      "k neighbors: 52\n",
      "Accuracy: 0.9333333333333333\n",
      "k neighbors: 53\n",
      "Accuracy: 0.9333333333333333\n",
      "k neighbors: 54\n",
      "Accuracy: 0.9333333333333333\n",
      "k neighbors: 55\n",
      "Accuracy: 0.9333333333333333\n",
      "k neighbors: 56\n",
      "Accuracy: 0.95\n",
      "k neighbors: 57\n",
      "Accuracy: 0.95\n",
      "k neighbors: 58\n",
      "Accuracy: 0.95\n",
      "k neighbors: 59\n",
      "Accuracy: 0.95\n",
      "k neighbors: 60\n",
      "Accuracy: 0.95\n",
      "k neighbors: 61\n",
      "Accuracy: 0.95\n",
      "k neighbors: 62\n",
      "Accuracy: 0.95\n",
      "k neighbors: 63\n",
      "Accuracy: 0.95\n",
      "k neighbors: 64\n",
      "Accuracy: 0.95\n",
      "k neighbors: 65\n",
      "Accuracy: 0.95\n",
      "k neighbors: 66\n",
      "Accuracy: 0.95\n",
      "k neighbors: 67\n",
      "Accuracy: 0.95\n",
      "k neighbors: 68\n",
      "Accuracy: 0.95\n",
      "k neighbors: 69\n",
      "Accuracy: 0.95\n",
      "k neighbors: 70\n",
      "Accuracy: 0.95\n",
      "k neighbors: 71\n",
      "Accuracy: 0.95\n",
      "k neighbors: 72\n",
      "Accuracy: 0.95\n",
      "k neighbors: 73\n",
      "Accuracy: 0.95\n",
      "k neighbors: 74\n",
      "Accuracy: 0.95\n",
      "k neighbors: 75\n",
      "Accuracy: 0.95\n",
      "k neighbors: 76\n",
      "Accuracy: 0.95\n",
      "k neighbors: 77\n",
      "Accuracy: 0.95\n",
      "k neighbors: 78\n",
      "Accuracy: 0.95\n",
      "k neighbors: 79\n",
      "Accuracy: 0.95\n",
      "k neighbors: 80\n",
      "Accuracy: 0.95\n",
      "k neighbors: 81\n",
      "Accuracy: 0.95\n",
      "k neighbors: 82\n",
      "Accuracy: 0.95\n",
      "k neighbors: 83\n",
      "Accuracy: 0.95\n",
      "k neighbors: 84\n",
      "Accuracy: 0.95\n",
      "k neighbors: 85\n",
      "Accuracy: 0.95\n",
      "k neighbors: 86\n",
      "Accuracy: 0.95\n",
      "k neighbors: 87\n",
      "Accuracy: 0.95\n",
      "k neighbors: 88\n",
      "Accuracy: 0.95\n",
      "k neighbors: 89\n",
      "Accuracy: 0.95\n",
      "k neighbors: 90\n",
      "Accuracy: 0.95\n",
      "\n",
      "Best k: 7\n",
      "Best accuracy: 0.9666666666666667\n"
     ]
    },
    {
     "data": {
      "image/png": "[encoded data removed]",
      "text/plain": [
       "<Figure size 432x288 with 1 Axes>"
      ]
     },
     "metadata": {
      "needs_background": "light"
     },
     "output_type": "display_data"
    }
   ],
   "source": [
    "import numpy as np\n",
    "from numpy import zeros\n",
    "from sklearn import neighbors\n",
    "from sklearn.model_selection import train_test_split\n",
    "\n",
    "X_train, X_test, y_train, y_test = train_test_split(iris.data, iris.target, test_size=0.4, random_state=0)\n",
    "\n",
    "best_accuracy=0\n",
    "best_k=1\n",
    "A=np.zeros(len(y_train), dtype=float) # for storing accuracies\n",
    "for n_neighbors in np.arange(1,len(y_train)+1):\n",
    "    clf_knn3 = neighbors.KNeighborsClassifier(n_neighbors, weights='distance')\n",
    "    # (n_neighbors=5, weights='uniform', algorithm='auto', leaf_size=30, p=2, metric='minkowski', metric_params=None, n_jobs=1, **kwargs)\n",
    "    clf_knn3.fit(X_train, y_train)\n",
    "    index = n_neighbors-1\n",
    "    A[index] = clf_knn3.score(X_test, y_test)\n",
    "    if best_accuracy < clf_knn3.score(X_test, y_test):\n",
    "        best_accuracy = clf_knn3.score(X_test, y_test)\n",
    "        best_k=n_neighbors\n",
    "    print(\"k neighbors: \" + str(n_neighbors))\n",
    "    print(\"Accuracy: \" + str(clf_knn3.score(X_test, y_test)))\n",
    "    \n",
    "print(\"\\nBest k: \" + str(best_k))\n",
    "print(\"Best accuracy: \" + str(best_accuracy))\n",
    "\n",
    "import matplotlib.pyplot as plt\n",
    "import matplotlib.ticker as ticker\n",
    "\n",
    "#plt.xticks(np.arange(1, len(y_train)+1, 8))\n",
    "plt.yticks(np.arange(0.0,1.0,0.01))\n",
    "\n",
    "plt.plot(np.arange(1,len(y_train)+1),A)\n",
    "\n",
    "plt.show()"
   ]
  },
  {
   "cell_type": "markdown",
   "metadata": {
    "collapsed": true,
    "id": "p23LUav0EYTe"
   },
   "source": [
    "In the following cell we plot in the same plot two subplots with the diagrams on accuracy with the two kinds of weighting \n",
    "of the vote of the neighbours (uniform and with distance)"
   ]
  },
  {
   "cell_type": "code",
   "execution_count": 5,
   "metadata": {
    "colab": {
     "base_uri": "https://localhost:8080/",
     "height": 1000
    },
    "id": "Ewb11oFOEYTf",
    "outputId": "a64d135d-b84c-4051-f1b6-5cd248b5c70f"
   },
   "outputs": [
    {
     "name": "stdout",
     "output_type": "stream",
     "text": [
      "weighting:uniform\n",
      "k neighbors=1\n",
      "accuracy=0.9166666666666666\n",
      "k neighbors=2\n",
      "accuracy=0.8833333333333333\n",
      "k neighbors=3\n",
      "accuracy=0.9333333333333333\n",
      "k neighbors=4\n",
      "accuracy=0.9\n",
      "k neighbors=5\n",
      "accuracy=0.95\n",
      "k neighbors=6\n",
      "accuracy=0.9166666666666666\n",
      "k neighbors=7\n",
      "accuracy=0.9666666666666667\n",
      "k neighbors=8\n",
      "accuracy=0.9333333333333333\n",
      "k neighbors=9\n",
      "accuracy=0.9666666666666667\n",
      "k neighbors=10\n",
      "accuracy=0.9666666666666667\n",
      "k neighbors=11\n",
      "accuracy=0.9666666666666667\n",
      "k neighbors=12\n",
      "accuracy=0.95\n",
      "k neighbors=13\n",
      "accuracy=0.95\n",
      "k neighbors=14\n",
      "accuracy=0.9166666666666666\n",
      "k neighbors=15\n",
      "accuracy=0.9333333333333333\n",
      "k neighbors=16\n",
      "accuracy=0.9166666666666666\n",
      "k neighbors=17\n",
      "accuracy=0.9333333333333333\n",
      "k neighbors=18\n",
      "accuracy=0.9333333333333333\n",
      "k neighbors=19\n",
      "accuracy=0.9333333333333333\n",
      "k neighbors=20\n",
      "accuracy=0.9166666666666666\n",
      "k neighbors=21\n",
      "accuracy=0.9333333333333333\n",
      "k neighbors=22\n",
      "accuracy=0.9\n",
      "k neighbors=23\n",
      "accuracy=0.9\n",
      "k neighbors=24\n",
      "accuracy=0.8833333333333333\n",
      "k neighbors=25\n",
      "accuracy=0.8666666666666667\n",
      "k neighbors=26\n",
      "accuracy=0.8833333333333333\n",
      "k neighbors=27\n",
      "accuracy=0.9\n",
      "k neighbors=28\n",
      "accuracy=0.8833333333333333\n",
      "k neighbors=29\n",
      "accuracy=0.9\n",
      "k neighbors=30\n",
      "accuracy=0.8666666666666667\n",
      "k neighbors=31\n",
      "accuracy=0.9\n",
      "k neighbors=32\n",
      "accuracy=0.8666666666666667\n",
      "k neighbors=33\n",
      "accuracy=0.8833333333333333\n",
      "k neighbors=34\n",
      "accuracy=0.8666666666666667\n",
      "k neighbors=35\n",
      "accuracy=0.8833333333333333\n",
      "k neighbors=36\n",
      "accuracy=0.8666666666666667\n",
      "k neighbors=37\n",
      "accuracy=0.8833333333333333\n",
      "k neighbors=38\n",
      "accuracy=0.8666666666666667\n",
      "k neighbors=39\n",
      "accuracy=0.8666666666666667\n",
      "k neighbors=40\n",
      "accuracy=0.8666666666666667\n",
      "k neighbors=41\n",
      "accuracy=0.8333333333333334\n",
      "k neighbors=42\n",
      "accuracy=0.8166666666666667\n",
      "k neighbors=43\n",
      "accuracy=0.8166666666666667\n",
      "k neighbors=44\n",
      "accuracy=0.8166666666666667\n",
      "k neighbors=45\n",
      "accuracy=0.85\n",
      "k neighbors=46\n",
      "accuracy=0.8333333333333334\n",
      "k neighbors=47\n",
      "accuracy=0.85\n",
      "k neighbors=48\n",
      "accuracy=0.85\n",
      "k neighbors=49\n",
      "accuracy=0.85\n",
      "k neighbors=50\n",
      "accuracy=0.85\n",
      "k neighbors=51\n",
      "accuracy=0.8333333333333334\n",
      "k neighbors=52\n",
      "accuracy=0.8166666666666667\n",
      "k neighbors=53\n",
      "accuracy=0.8333333333333334\n",
      "k neighbors=54\n",
      "accuracy=0.8333333333333334\n",
      "k neighbors=55\n",
      "accuracy=0.8\n",
      "k neighbors=56\n",
      "accuracy=0.8\n",
      "k neighbors=57\n",
      "accuracy=0.8\n",
      "k neighbors=58\n",
      "accuracy=0.7833333333333333\n",
      "k neighbors=59\n",
      "accuracy=0.7666666666666667\n",
      "k neighbors=60\n",
      "accuracy=0.7666666666666667\n",
      "k neighbors=61\n",
      "accuracy=0.7666666666666667\n",
      "k neighbors=62\n",
      "accuracy=0.75\n",
      "k neighbors=63\n",
      "accuracy=0.75\n",
      "k neighbors=64\n",
      "accuracy=0.75\n",
      "k neighbors=65\n",
      "accuracy=0.75\n",
      "k neighbors=66\n",
      "accuracy=0.75\n",
      "k neighbors=67\n",
      "accuracy=0.75\n",
      "k neighbors=68\n",
      "accuracy=0.75\n",
      "k neighbors=69\n",
      "accuracy=0.75\n",
      "k neighbors=70\n",
      "accuracy=0.7333333333333333\n",
      "k neighbors=71\n",
      "accuracy=0.7333333333333333\n",
      "k neighbors=72\n",
      "accuracy=0.7333333333333333\n",
      "k neighbors=73\n",
      "accuracy=0.7333333333333333\n",
      "k neighbors=74\n",
      "accuracy=0.7166666666666667\n",
      "k neighbors=75\n",
      "accuracy=0.7166666666666667\n",
      "k neighbors=76\n",
      "accuracy=0.6833333333333333\n",
      "k neighbors=77\n",
      "accuracy=0.6666666666666666\n",
      "k neighbors=78\n",
      "accuracy=0.6333333333333333\n",
      "k neighbors=79\n",
      "accuracy=0.6333333333333333\n",
      "k neighbors=80\n",
      "accuracy=0.6\n",
      "k neighbors=81\n",
      "accuracy=0.6\n",
      "k neighbors=82\n",
      "accuracy=0.6\n",
      "k neighbors=83\n",
      "accuracy=0.6\n",
      "k neighbors=84\n",
      "accuracy=0.6\n",
      "k neighbors=85\n",
      "accuracy=0.26666666666666666\n",
      "k neighbors=86\n",
      "accuracy=0.26666666666666666\n",
      "k neighbors=87\n",
      "accuracy=0.26666666666666666\n",
      "k neighbors=88\n",
      "accuracy=0.26666666666666666\n",
      "k neighbors=89\n",
      "accuracy=0.26666666666666666\n",
      "k neighbors=90\n",
      "accuracy=0.26666666666666666\n",
      "\n",
      "\n",
      "best k=7\n",
      "best accuracy=0.9666666666666667\n",
      "weighting:distance\n",
      "k neighbors=1\n",
      "accuracy=0.9166666666666666\n",
      "k neighbors=2\n",
      "accuracy=0.9166666666666666\n",
      "k neighbors=3\n",
      "accuracy=0.9333333333333333\n",
      "k neighbors=4\n",
      "accuracy=0.9166666666666666\n",
      "k neighbors=5\n",
      "accuracy=0.95\n",
      "k neighbors=6\n",
      "accuracy=0.9333333333333333\n",
      "k neighbors=7\n",
      "accuracy=0.9666666666666667\n",
      "k neighbors=8\n",
      "accuracy=0.9333333333333333\n",
      "k neighbors=9\n",
      "accuracy=0.9666666666666667\n",
      "k neighbors=10\n",
      "accuracy=0.9666666666666667\n",
      "k neighbors=11\n",
      "accuracy=0.9666666666666667\n",
      "k neighbors=12\n",
      "accuracy=0.9666666666666667\n",
      "k neighbors=13\n",
      "accuracy=0.9666666666666667\n",
      "k neighbors=14\n",
      "accuracy=0.95\n",
      "k neighbors=15\n",
      "accuracy=0.95\n",
      "k neighbors=16\n",
      "accuracy=0.9166666666666666\n",
      "k neighbors=17\n",
      "accuracy=0.9333333333333333\n",
      "k neighbors=18\n",
      "accuracy=0.9166666666666666\n",
      "k neighbors=19\n",
      "accuracy=0.9166666666666666\n",
      "k neighbors=20\n",
      "accuracy=0.9166666666666666\n",
      "k neighbors=21\n",
      "accuracy=0.9166666666666666\n",
      "k neighbors=22\n",
      "accuracy=0.9166666666666666\n",
      "k neighbors=23\n",
      "accuracy=0.9166666666666666\n",
      "k neighbors=24\n",
      "accuracy=0.9\n",
      "k neighbors=25\n",
      "accuracy=0.9166666666666666\n",
      "k neighbors=26\n",
      "accuracy=0.9166666666666666\n",
      "k neighbors=27\n",
      "accuracy=0.9333333333333333\n",
      "k neighbors=28\n",
      "accuracy=0.9333333333333333\n",
      "k neighbors=29\n",
      "accuracy=0.9333333333333333\n",
      "k neighbors=30\n",
      "accuracy=0.9166666666666666\n",
      "k neighbors=31\n",
      "accuracy=0.9333333333333333\n",
      "k neighbors=32\n",
      "accuracy=0.9166666666666666\n",
      "k neighbors=33\n",
      "accuracy=0.9333333333333333\n",
      "k neighbors=34\n",
      "accuracy=0.9166666666666666\n",
      "k neighbors=35\n",
      "accuracy=0.9333333333333333\n",
      "k neighbors=36\n",
      "accuracy=0.9166666666666666\n",
      "k neighbors=37\n",
      "accuracy=0.9333333333333333\n",
      "k neighbors=38\n",
      "accuracy=0.9\n",
      "k neighbors=39\n",
      "accuracy=0.9166666666666666\n",
      "k neighbors=40\n",
      "accuracy=0.9166666666666666\n",
      "k neighbors=41\n",
      "accuracy=0.9333333333333333\n",
      "k neighbors=42\n",
      "accuracy=0.9333333333333333\n",
      "k neighbors=43\n",
      "accuracy=0.9333333333333333\n",
      "k neighbors=44\n",
      "accuracy=0.9166666666666666\n",
      "k neighbors=45\n",
      "accuracy=0.9333333333333333\n",
      "k neighbors=46\n",
      "accuracy=0.9166666666666666\n",
      "k neighbors=47\n",
      "accuracy=0.9166666666666666\n",
      "k neighbors=48\n",
      "accuracy=0.9166666666666666\n",
      "k neighbors=49\n",
      "accuracy=0.9166666666666666\n",
      "k neighbors=50\n",
      "accuracy=0.9166666666666666\n",
      "k neighbors=51\n",
      "accuracy=0.9333333333333333\n",
      "k neighbors=52\n",
      "accuracy=0.9333333333333333\n",
      "k neighbors=53\n",
      "accuracy=0.9333333333333333\n",
      "k neighbors=54\n",
      "accuracy=0.9333333333333333\n",
      "k neighbors=55\n",
      "accuracy=0.9333333333333333\n",
      "k neighbors=56\n",
      "accuracy=0.95\n",
      "k neighbors=57\n",
      "accuracy=0.95\n",
      "k neighbors=58\n",
      "accuracy=0.95\n",
      "k neighbors=59\n",
      "accuracy=0.95\n",
      "k neighbors=60\n",
      "accuracy=0.95\n",
      "k neighbors=61\n",
      "accuracy=0.95\n",
      "k neighbors=62\n",
      "accuracy=0.95\n",
      "k neighbors=63\n",
      "accuracy=0.95\n",
      "k neighbors=64\n",
      "accuracy=0.95\n",
      "k neighbors=65\n",
      "accuracy=0.95\n",
      "k neighbors=66\n",
      "accuracy=0.95\n",
      "k neighbors=67\n",
      "accuracy=0.95\n",
      "k neighbors=68\n",
      "accuracy=0.95\n",
      "k neighbors=69\n",
      "accuracy=0.95\n",
      "k neighbors=70\n",
      "accuracy=0.95\n",
      "k neighbors=71\n",
      "accuracy=0.95\n",
      "k neighbors=72\n",
      "accuracy=0.95\n",
      "k neighbors=73\n",
      "accuracy=0.95\n",
      "k neighbors=74\n",
      "accuracy=0.95\n",
      "k neighbors=75\n",
      "accuracy=0.95\n",
      "k neighbors=76\n",
      "accuracy=0.95\n",
      "k neighbors=77\n",
      "accuracy=0.95\n",
      "k neighbors=78\n",
      "accuracy=0.95\n",
      "k neighbors=79\n",
      "accuracy=0.95\n",
      "k neighbors=80\n",
      "accuracy=0.95\n",
      "k neighbors=81\n",
      "accuracy=0.95\n",
      "k neighbors=82\n",
      "accuracy=0.95\n",
      "k neighbors=83\n",
      "accuracy=0.95\n",
      "k neighbors=84\n",
      "accuracy=0.95\n",
      "k neighbors=85\n",
      "accuracy=0.95\n",
      "k neighbors=86\n",
      "accuracy=0.95\n",
      "k neighbors=87\n",
      "accuracy=0.95\n",
      "k neighbors=88\n",
      "accuracy=0.95\n",
      "k neighbors=89\n",
      "accuracy=0.95\n",
      "k neighbors=90\n",
      "accuracy=0.95\n",
      "\n",
      "\n",
      "best k=7\n",
      "best accuracy=0.9666666666666667\n"
     ]
    },
    {
     "data": {
      "image/png": "[encoded data removed]",
      "text/plain": [
       "<Figure size 432x288 with 2 Axes>"
      ]
     },
     "metadata": {
      "needs_background": "light"
     },
     "output_type": "display_data"
    }
   ],
   "source": [
    "import numpy as np\n",
    "from numpy import zeros\n",
    "from sklearn import neighbors\n",
    "from sklearn.datasets import load_iris\n",
    "iris = load_iris()\n",
    "from sklearn.model_selection import train_test_split\n",
    "\n",
    "import matplotlib.pyplot as plt\n",
    "\n",
    "X_train, X_test, y_train, y_test = train_test_split(iris.data, iris.target, test_size=0.4, random_state=0)\n",
    "\n",
    "i=0  #parameter in the control of the subplot to draw on'\n",
    "f,(ax1, ax2) = plt.subplots(1, 2, sharey=True)\n",
    "for weight_type in ['uniform','distance']:\n",
    "    print(\"weighting:\"+str(weight_type))\n",
    "    A=np.zeros(len(y_train), dtype=float) # for storing accuracies\n",
    "    best_accuracy=0\n",
    "    best_k=1\n",
    "    for n_neighbors in np.arange(1,len(y_train)+1):\n",
    "        clf_knn2 = neighbors.KNeighborsClassifier(n_neighbors, weights=weight_type)\n",
    "        # (n_neighbors=5, weights='uniform', algorithm='auto', leaf_size=30, p=2, metric='minkowski', metric_params=None, n_jobs=1, **kwargs)\n",
    "        clf_knn2.fit(X_train, y_train)\n",
    "        index=n_neighbors-1\n",
    "        A[index]=clf_knn2.score(X_test, y_test)\n",
    "        if best_accuracy<clf_knn2.score(X_test, y_test):\n",
    "            best_accuracy=clf_knn2.score(X_test, y_test)\n",
    "            best_k=n_neighbors\n",
    "        print(\"k neighbors=\"+str(n_neighbors))\n",
    "        print(\"accuracy=\"+str(clf_knn2.score(X_test, y_test)))\n",
    "    \n",
    "    print(\"\\n\")\n",
    "    print(\"best k=\"+str(best_k))\n",
    "    print(\"best accuracy=\"+str(best_accuracy))\n",
    "    if i==0:\n",
    "        ax1.plot(np.arange(1,len(y_train)+1),A)\n",
    "        ax1.set_title('weighting type:'+str(weight_type))\n",
    "    else:\n",
    "        ax2.plot(np.arange(1,len(y_train)+1),A)\n",
    "        ax2.set_title('weighting type:'+str(weight_type))\n",
    "    i=i+1\n",
    "\n",
    "plt.show()\n"
   ]
  },
  {
   "cell_type": "markdown",
   "metadata": {
    "collapsed": true,
    "id": "LXhkXpz0EYTj"
   },
   "source": [
    "In the following cell we plot (overlapping) in the same picture both the diagrams on accuracy with the two kinds of weighting \n",
    "of the vote of the neighbours (uniform and with distance)"
   ]
  },
  {
   "cell_type": "code",
   "execution_count": 6,
   "metadata": {
    "colab": {
     "base_uri": "https://localhost:8080/",
     "height": 1000
    },
    "id": "7_nkikvMEYTk",
    "outputId": "e5fb0243-2767-4448-e9b5-7252c8bf1610"
   },
   "outputs": [
    {
     "name": "stdout",
     "output_type": "stream",
     "text": [
      "\n",
      "\n",
      "best k=7\n",
      "best accuracy=0.9666666666666667\n",
      "\n",
      "\n",
      "best k=7\n",
      "best accuracy=0.9666666666666667\n"
     ]
    },
    {
     "data": {
      "image/png": "[encoded data removed]",
      "text/plain": [
       "<Figure size 432x288 with 1 Axes>"
      ]
     },
     "metadata": {
      "needs_background": "light"
     },
     "output_type": "display_data"
    }
   ],
   "source": [
    "import numpy as np\n",
    "from sklearn import neighbors\n",
    "from sklearn.datasets import load_iris\n",
    "iris = load_iris()\n",
    "from sklearn.model_selection import train_test_split\n",
    "\n",
    "import matplotlib.pyplot as plt\n",
    "\n",
    "X_train, X_test, y_train, y_test = train_test_split(iris.data, iris.target, test_size=0.4, random_state=0)\n",
    "\n",
    "fig = plt.figure()\n",
    "fig.suptitle('Accuracy in k-nn with number of neighbors and types of weighting', fontsize=14, fontweight='bold')\n",
    "ax = fig.add_subplot(111)\n",
    "ax.set_xlabel('n. neighbors')\n",
    "ax.set_ylabel('accuracy')\n",
    "A=np.zeros((len(y_train),2), dtype=float) # 2 arrays for storing accuracies for each type of weigthing\n",
    "i=0  #parameter in the control of the different diagram (=matrix A column index)\n",
    "best_accuracy=0\n",
    "for weight_type in ['uniform','distance']:\n",
    "    best_accuracy=0\n",
    "    best_k=1\n",
    "    for n_neighbors in np.arange(1,len(y_train)+1):\n",
    "        clf_knn2 = neighbors.KNeighborsClassifier(n_neighbors, weights=weight_type)\n",
    "        # (n_neighbors=5, weights='uniform', algorithm='auto', leaf_size=30, p=2, metric='minkowski', metric_params=None, n_jobs=1, **kwargs)\n",
    "        clf_knn2.fit(X_train, y_train)\n",
    "        index=n_neighbors-1 # computes the matrix row index\n",
    "        A[index,i]=clf_knn2.score(X_test, y_test)\n",
    "        if best_accuracy<clf_knn2.score(X_test, y_test):\n",
    "            best_accuracy=clf_knn2.score(X_test, y_test)\n",
    "            best_k=n_neighbors\n",
    "    print(\"\\n\")\n",
    "    print(\"best k=\"+str(best_k))\n",
    "    print(\"best accuracy=\"+str(best_accuracy))\n",
    "    plt.plot(np.arange(1,len(y_train)+1),A[:,i])\n",
    "    i=i+1\n",
    "plt.legend(['uniform', 'distance'], loc='lower left')  \n",
    "plt.show()\n"
   ]
  },
  {
   "cell_type": "markdown",
   "metadata": {
    "collapsed": true,
    "id": "-aSX54vFEYTp"
   },
   "source": [
    "Plot the Iris dataset, in 2-D, with a red color for Setosa, blue for Versicolor, Green for Virginica.\n"
   ]
  },
  {
   "cell_type": "code",
   "execution_count": 7,
   "metadata": {
    "id": "5o8cPLOdEYTq"
   },
   "outputs": [
    {
     "data": {
      "text/plain": [
       "<matplotlib.legend.Legend at 0x7f2b88637430>"
      ]
     },
     "execution_count": 7,
     "metadata": {},
     "output_type": "execute_result"
    },
    {
     "data": {
      "image/png": "[encoded data removed]",
      "text/plain": [
       "<Figure size 432x288 with 1 Axes>"
      ]
     },
     "metadata": {
      "needs_background": "light"
     },
     "output_type": "display_data"
    }
   ],
   "source": [
    "from matplotlib.colors import ListedColormap\n",
    "\n",
    "# Since it is impossible to print a 4-D plot e are going to consider just the first 2 features\n",
    "plot_data = iris.data[:,:-2]\n",
    "point_colors = ListedColormap(['red', 'blue', 'green'])\n",
    "\n",
    "fig,ax = plt.subplots()\n",
    "fig.suptitle('Iris Dataset - Real class distribution', fontsize=14, fontweight='bold')\n",
    "ax.set_xlabel(iris.feature_names[0])\n",
    "ax.set_ylabel(iris.feature_names[1])\n",
    "\n",
    "# Since we need to get the column vectors for the x's and y's we perform the transpose on the plot data\n",
    "plot_data_trans = plot_data.T\n",
    "\n",
    "# c = class, cmap=colormap\n",
    "scatter = ax.scatter(plot_data_trans[0], plot_data_trans[1], c=iris.target, cmap=point_colors)\n",
    "ax.legend(handles=scatter.legend_elements()[0], labels=iris.target_names.tolist())\n"
   ]
  },
  {
   "cell_type": "markdown",
   "metadata": {
    "id": "Fs9ogv4vEYTt"
   },
   "source": [
    "## What you have to do: \n",
    "1. Plot the Iris dataset, in 2-D, with the color as above determined by the k-nn estimation\n"
   ]
  },
  {
   "cell_type": "code",
   "execution_count": 8,
   "metadata": {
    "id": "niu9K9kn43ZM"
   },
   "outputs": [
    {
     "data": {
      "text/plain": [
       "<matplotlib.legend.Legend at 0x7f2b88566040>"
      ]
     },
     "execution_count": 8,
     "metadata": {},
     "output_type": "execute_result"
    },
    {
     "data": {
      "image/png": "[encoded data removed]",
      "text/plain": [
       "<Figure size 432x288 with 1 Axes>"
      ]
     },
     "metadata": {
      "needs_background": "light"
     },
     "output_type": "display_data"
    }
   ],
   "source": [
    "\n",
    "n_neighbors = 11\n",
    "X_train, X_test, y_train, y_test = train_test_split(iris.data, iris.target, test_size=0.4, random_state=0)\n",
    "\n",
    "clf_knn = neighbors.KNeighborsClassifier(n_neighbors, weights='distance')\n",
    "clf_knn = clf_knn.fit(X_train, y_train)\n",
    "y_pred = clf_knn.predict(iris.data)\n",
    "\n",
    "\n",
    "fig,ax = plt.subplots()\n",
    "fig.suptitle('Iris Dataset - Predicted class distribution (k = ' + str(n_neighbors) + ')', fontsize=14, fontweight='bold')\n",
    "ax.set_xlabel(iris.feature_names[0])\n",
    "ax.set_ylabel(iris.feature_names[1])\n",
    "\n",
    "scatter = ax.scatter(plot_data_trans[0], plot_data_trans[1], c=y_pred, cmap=point_colors)\n",
    "ax.legend(handles=scatter.legend_elements()[0], labels=iris.target_names.tolist())"
   ]
  },
  {
   "cell_type": "markdown",
   "metadata": {},
   "source": [
    "2. Plot the ROC plot of the k-nn (for the best value of k) for each of the three classes: setosa, virginica and versicolor"
   ]
  },
  {
   "cell_type": "code",
   "execution_count": 9,
   "metadata": {
    "id": "n4d3We4cEYTu"
   },
   "outputs": [
    {
     "data": {
      "text/plain": [
       "Text(0.5, 1.0, 'ROC Curve: k-NN classifier')"
      ]
     },
     "execution_count": 9,
     "metadata": {},
     "output_type": "execute_result"
    },
    {
     "data": {
      "image/png": "[encoded data removed]",
      "text/plain": [
       "<Figure size 432x288 with 1 Axes>"
      ]
     },
     "metadata": {
      "needs_background": "light"
     },
     "output_type": "display_data"
    }
   ],
   "source": [
    "# Compute the ROC plot using scores, without considering every possible threshold\n",
    "# Parameters:\n",
    "#   - scores: An array obtained from predict_proba with scores assigned to each class\n",
    "#   - actual: An array containing the real class assigned to every instance\n",
    "#   - positive_class: Index of the class considered positive (defaults to 0) \n",
    "# Return:\n",
    "#   - An array containing the coordinates of points that represent the ROC curve\n",
    "def scoring_roc(scores, actual, positive_class = 0):\n",
    "    # Take only the column vector of scores corresponding to the positive\n",
    "    # class, then order it in a decreasing order, by keeping only the permutation\n",
    "    # of indexes that lead to the ordered sequence\n",
    "    sorted_indexes = np.argsort(-scores[:, positive_class])\n",
    "\n",
    "    # Compute positives and negatives\n",
    "    # Positives are only considered if class = positive_class, all the remaining\n",
    "    # ones are considered as negatives\n",
    "    pos = sum(actual == positive_class)\n",
    "    neg = actual.size - pos # Neg = |D| - Pos \n",
    "    \n",
    "    # We can now proceed to compute the actual ROC plot\n",
    "    # Let's start from the origin (0, 0)\n",
    "    x, y = 0, 0\n",
    "    roc_points = [[x, y]]\n",
    "\n",
    "    # Consider the instances in a specific order\n",
    "    for si in sorted_indexes:\n",
    "        if actual[si] == positive_class:\n",
    "            # Correctly classified, move up\n",
    "            y += (1 / pos)\n",
    "        else:\n",
    "            # Incorrectly classified, move right \n",
    "            x += (1 / neg)\n",
    "        roc_points.append([x, y])\n",
    "    # Return points as a numpy array since its more convenient to use\n",
    "    return np.array(roc_points)\n",
    "\n",
    "\n",
    "# Predict the probabilities\n",
    "y_actual = iris.target\n",
    "y_pred = clf_knn.predict_proba(iris.data)\n",
    "\n",
    "# Print the ROC curve of each class\n",
    "for positive_class in range(0, y_pred.shape[1]):\n",
    "    roc_curve = scoring_roc(y_pred, y_actual, positive_class)\n",
    "    plt.plot(roc_curve[:,0], roc_curve[:, 1])\n",
    "\n",
    "plt.plot([0, 1], [0, 1], color='grey', linestyle='--')\n",
    "plt.xlabel('False Positive Rate')\n",
    "plt.ylabel('True Positive Rate')\n",
    "plt.title('ROC Curve: k-NN classifier')"
   ]
  },
  {
   "cell_type": "markdown",
   "metadata": {},
   "source": [
    "\n",
    "3. Plot the ROC plot for the best decision tree you trained in Exercize n.1  \n",
    "4. Compare decision trees and k-nn on the ROC space: for which values of (TPR,FPR) k-nn is better than decision trees? (**TODO**)"
   ]
  },
  {
   "cell_type": "code",
   "execution_count": 10,
   "metadata": {},
   "outputs": [
    {
     "data": {
      "text/plain": [
       "Text(0.5, 1.0, 'ROC Curve: Tree classifier')"
      ]
     },
     "execution_count": 10,
     "metadata": {},
     "output_type": "execute_result"
    },
    {
     "data": {
      "image/png": "[encoded data removed]",
      "text/plain": [
       "<Figure size 432x288 with 1 Axes>"
      ]
     },
     "metadata": {
      "needs_background": "light"
     },
     "output_type": "display_data"
    }
   ],
   "source": [
    "# Predict the probabilities\n",
    "y_actual = iris.target\n",
    "y_pred = clf.predict_proba(iris.data)\n",
    "\n",
    "# Print the ROC curve of each class\n",
    "for positive_class in range(0, y_pred.shape[1]):\n",
    "    roc_curve = scoring_roc(y_pred, y_actual, positive_class)\n",
    "    plt.plot(roc_curve[:,0], roc_curve[:, 1])\n",
    "\n",
    "plt.plot([0, 1], [0, 1], color='grey', linestyle='--')\n",
    "plt.xlabel('False Positive Rate')\n",
    "plt.ylabel('True Positive Rate')\n",
    "plt.title('ROC Curve: Tree classifier')"
   ]
  },
  {
   "cell_type": "markdown",
   "metadata": {
    "id": "aqQOXvLKEYTy"
   },
   "source": [
    "5. In the following, extend the above exercise on k-nn using a kernel function  \n",
    "K(x,y) for the distances computation, such that distance(x,y)=1-K(x,y).    Use a Gaussian-like (or Radial Basis Function) kernel K(x,y)=exp(-gamma(x-y)^2), with gamma the inverse of the sigma squared variance, that must be tuned to the best value according to the accuracy reached by the k-nn, with k=7 (similarly as done with the previous example on tuning the parameter n_neightbors)."
   ]
  },
  {
   "cell_type": "code",
   "execution_count": 11,
   "metadata": {},
   "outputs": [
    {
     "name": "stdout",
     "output_type": "stream",
     "text": [
      "Best (sigma, score): (0.1, 0.9666666666666667)\n"
     ]
    },
    {
     "data": {
      "text/plain": [
       "[<matplotlib.lines.Line2D at 0x7f2b8837aa90>]"
      ]
     },
     "execution_count": 11,
     "metadata": {},
     "output_type": "execute_result"
    },
    {
     "data": {
      "image/png": "[encoded data removed]",
      "text/plain": [
       "<Figure size 432x288 with 1 Axes>"
      ]
     },
     "metadata": {
      "needs_background": "light"
     },
     "output_type": "display_data"
    }
   ],
   "source": [
    "# First thing first, we define the Kernel function\n",
    "def kernel(x, y, sigma):\n",
    "    gamma = 1/(2*(sigma ** 2))\n",
    "    return np.exp(-(np.linalg.norm(x - y) ** 2)*(gamma))\n",
    "\n",
    "# Now we use the kernel to compute the actual distance\n",
    "def distance(x, y, sigma):\n",
    "    return 1 - kernel(x,y,sigma)\n",
    "\n",
    "n_neighbors = 7\n",
    "scores = []                         # ..to save scores later\n",
    "sigmas = np.linspace(0.1, 1, 10)    # consider 10 points between 0.1 and 1 \n",
    "    \n",
    "best_sigma, best_score = 0, 0\n",
    "    \n",
    "for sigma in sigmas:\n",
    "    dist = lambda x, y: distance(x, y, sigma)     # Create a partially applied distance function `dist`\n",
    "    kernelized_knn = neighbors.KNeighborsClassifier(n_neighbors, weights='distance', metric=dist).fit(X_train, y_train)\n",
    "    score = kernelized_knn.score(X_test, y_test)\n",
    "    scores.append(score)\n",
    "    if(score > best_score): # update best score and sigma accordingly\n",
    "        best_sigma, best_score = sigma, score\n",
    "\n",
    "\n",
    "print(f'Best (sigma, score): ({best_sigma}, {best_score})')\n",
    "plt.plot(sigmas, scores)"
   ]
  }
 ],
 "metadata": {
  "anaconda-cloud": {},
  "colab": {
   "collapsed_sections": [],
   "name": "classification_iris_knn_aa_21_22.ipynb",
   "provenance": []
  },
  "interpreter": {
   "hash": "a8f988e3caeab6af02c276e3f8734bb14eff656972cb168ab30b75f4485a2a22"
  },
  "kernelspec": {
   "display_name": "Python 3 (ipykernel)",
   "language": "python",
   "name": "python3"
  },
  "language_info": {
   "codemirror_mode": {
    "name": "ipython",
    "version": 3
   },
   "file_extension": ".py",
   "mimetype": "text/x-python",
   "name": "python",
   "nbconvert_exporter": "python",
   "pygments_lexer": "ipython3",
   "version": "3.8.9"
  }
 },
 "nbformat": 4,
 "nbformat_minor": 1
}
