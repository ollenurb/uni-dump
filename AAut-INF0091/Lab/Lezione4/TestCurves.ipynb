{
 "cells": [
  {
   "cell_type": "markdown",
   "metadata": {},
   "source": [
    "\n",
    "# Test ROC curves\n",
    "ROC curves hasn't always been explained that well, but a they are important and a lot of time is spent by the book using them as a mean of comparing classifiers.\n",
    "In this notebook I'll try to clarify some concepts that has been illustrated during the course, with the hope of giving another point of view to better incorporate such concept. "
   ]
  },
  {
   "cell_type": "markdown",
   "metadata": {},
   "source": []
  }
 ],
 "metadata": {
  "language_info": {
   "name": "python"
  },
  "orig_nbformat": 4
 },
 "nbformat": 4,
 "nbformat_minor": 2
}
