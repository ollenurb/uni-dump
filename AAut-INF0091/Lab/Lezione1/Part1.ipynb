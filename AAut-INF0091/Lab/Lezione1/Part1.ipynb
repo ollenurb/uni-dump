{
 "cells": [
  {
   "cell_type": "markdown",
   "metadata": {},
   "source": [
    "# Assessing performances of Custom vs NumPy implementations of linear algebra operators\n",
    "In this part of the lecture we are going to see how NumPy provides better algorithms and routines that better use the hardware acceleration to provide efficient linear algebra operators.  \n",
    "After importing the `numpy` library and other modules, we are going to define 2 vectors on which the operations will be carried out"
   ]
  },
  {
   "cell_type": "code",
   "execution_count": 12,
   "metadata": {},
   "outputs": [],
   "source": [
    "import numpy as np\n",
    "import time\n",
    "import math\n",
    "\n",
    "SIZE = int(1E6)\n",
    "x = np.random.uniform(size = SIZE)\n",
    "y = np.random.uniform(size = SIZE)"
   ]
  },
  {
   "cell_type": "markdown",
   "metadata": {},
   "source": [
    "Then we also define a function to benchmark two arbitrary operators"
   ]
  },
  {
   "cell_type": "code",
   "execution_count": 7,
   "metadata": {},
   "outputs": [],
   "source": [
    "def benchmark(x, y, op1, op2):\n",
    "    # Test the first operator\n",
    "    start = time.time()\n",
    "    result = op1(x, y)\n",
    "    end = time.time()\n",
    "    print(\"[Custom] Time: {}\".format(end - start))\n",
    "    # Test the second operator\n",
    "    start = time.time()\n",
    "    result = op2(x, y)\n",
    "    end = time.time()\n",
    "    print(\"[NumPy] Time: {}\".format(end - start))"
   ]
  },
  {
   "cell_type": "markdown",
   "metadata": {},
   "source": [
    "## Dot Product ($x \\cdot y$)\n",
    "We are going to start with the simpler operation that can be carried out between 2 vectors: the dot product"
   ]
  },
  {
   "cell_type": "code",
   "execution_count": 10,
   "metadata": {},
   "outputs": [
    {
     "name": "stdout",
     "output_type": "stream",
     "text": [
      "[Custom] Time: 0.4584836959838867\n",
      "[NumPy] Time: 0.0018982887268066406\n"
     ]
    }
   ],
   "source": [
    "def dot(x, y):\n",
    "    return sum([x * y for (x, y) in zip(x, y)])\n",
    "\n",
    "benchmark(x, y, dot, np.dot)"
   ]
  },
  {
   "cell_type": "markdown",
   "metadata": {},
   "source": [
    "## Norm ($|| x-y ||_2$)"
   ]
  },
  {
   "cell_type": "code",
   "execution_count": 21,
   "metadata": {},
   "outputs": [
    {
     "name": "stdout",
     "output_type": "stream",
     "text": [
      "[Custom] Time: 0.802208423614502\n",
      "[NumPy] Time: 0.002994537353515625\n"
     ]
    }
   ],
   "source": [
    "def custom_norm(x, y):\n",
    "    return math.sqrt(sum([(x - y)**2 for (x, y) in zip(x, y)]))\n",
    "\n",
    "def np_custom_norm(x, y):\n",
    "    return np.linalg.norm(np.subtract(x, y), 2)\n",
    "\n",
    "benchmark(x, y, custom_norm, np_custom_norm)"
   ]
  },
  {
   "cell_type": "markdown",
   "metadata": {},
   "source": [
    "In both cases, the NumPy implementation outperforms the custom implementations by archieving a much higher speedup"
   ]
  }
 ],
 "metadata": {
  "kernelspec": {
   "display_name": "Python 3",
   "language": "python",
   "name": "python3"
  },
  "language_info": {
   "codemirror_mode": {
    "name": "ipython",
    "version": 3
   },
   "file_extension": ".py",
   "mimetype": "text/x-python",
   "name": "python",
   "nbconvert_exporter": "python",
   "pygments_lexer": "ipython3",
   "version": "3.8.9"
  }
 },
 "nbformat": 4,
 "nbformat_minor": 4
}
