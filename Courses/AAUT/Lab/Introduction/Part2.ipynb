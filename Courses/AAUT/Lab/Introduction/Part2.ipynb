{
 "cells": [
  {
   "cell_type": "markdown",
   "metadata": {},
   "source": [
    "# Evaluating performances of a model in a coverage plot\n",
    "In this part of the lesson we are going to see how we can evaluate performances of a trained model using a coverage plot. The dataset that will be used is the Scikit Learn's breast cancer."
   ]
  },
  {
   "cell_type": "markdown",
   "metadata": {},
   "source": [
    "## General imports\n",
    "Import the needed libraries. We are going to use a LogisticRegression classifier to fit the data."
   ]
  },
  {
   "cell_type": "code",
   "execution_count": 2,
   "metadata": {},
   "outputs": [],
   "source": [
    "from sklearn.datasets import load_breast_cancer\n",
    "import numpy as np\n",
    "from sklearn.linear_model import LogisticRegression\n",
    "from sklearn.model_selection import train_test_split\n",
    "import matplotlib.pyplot as plt"
   ]
  },
  {
   "cell_type": "markdown",
   "metadata": {},
   "source": [
    "## Loading datasets\n",
    "The first thing to do is to load the dataset. Sklearn has already a lots of datasets available. Each dataset comes with a custom utility function to load the dataset. In this case we are using the custom function of the `breast_cancer` dataset to load it.\n",
    "The `X` variable is going to contain the *istances* of the dataset, while the `y` variable contains the *labels* (the outcome - `false | positive` - associated with the data)"
   ]
  },
  {
   "cell_type": "code",
   "execution_count": 3,
   "metadata": {},
   "outputs": [],
   "source": [
    "X,y = load_breast_cancer(return_X_y=True)"
   ]
  },
  {
   "cell_type": "markdown",
   "metadata": {},
   "source": [
    "Before training the model we need to split the dataset between 2 subsets: $Te$ and $Tr$.  \n",
    "The `train_test_split` function is used here to take $33$% of the dataset to be $Te$, while the remaining to be $Tr$. The `random_state` parameter is a RNG seed used to avoid sampling the istances too uniformly. \n",
    "The seed is configurable since we need our experiments to be reproducible."
   ]
  },
  {
   "cell_type": "code",
   "execution_count": 4,
   "metadata": {},
   "outputs": [],
   "source": [
    "X_train, X_test, y_train, y_test = train_test_split(X, y, test_size=0.33, random_state=42)"
   ]
  },
  {
   "cell_type": "markdown",
   "metadata": {},
   "source": [
    "Compute $Te^{\\oplus}$ and $Te^{\\ominus}$"
   ]
  },
  {
   "cell_type": "code",
   "execution_count": 5,
   "metadata": {},
   "outputs": [
    {
     "name": "stdout",
     "output_type": "stream",
     "text": [
      "121 67\n"
     ]
    }
   ],
   "source": [
    "Pos = sum(y_test == 1)\n",
    "Neg = sum(y_test == 0)\n",
    "\n",
    "print(Pos, Neg)"
   ]
  },
  {
   "cell_type": "markdown",
   "metadata": {},
   "source": [
    "# Fitting the data"
   ]
  },
  {
   "cell_type": "markdown",
   "metadata": {},
   "source": [
    "Now we need to fit the data using the `LogisticRegression` classifier.\n",
    "First, we need to create the actual classifier, by passing the maximum number of iterations needed by its learning algorithm. Then we train the data on the $Tr$ dataset with its appropriate `fit` function."
   ]
  },
  {
   "cell_type": "code",
   "execution_count": 6,
   "metadata": {},
   "outputs": [
    {
     "name": "stderr",
     "output_type": "stream",
     "text": [
      "/nix/store/v2ig8phm4zm423iwjjdkssmmk9j7vg3b-python3-3.8.9-env/lib/python3.8/site-packages/sklearn/linear_model/_logistic.py:763: ConvergenceWarning: lbfgs failed to converge (status=1):\n",
      "STOP: TOTAL NO. of ITERATIONS REACHED LIMIT.\n",
      "\n",
      "Increase the number of iterations (max_iter) or scale the data as shown in:\n",
      "    https://scikit-learn.org/stable/modules/preprocessing.html\n",
      "Please also refer to the documentation for alternative solver options:\n",
      "    https://scikit-learn.org/stable/modules/linear_model.html#logistic-regression\n",
      "  n_iter_i = _check_optimize_result(\n"
     ]
    },
    {
     "data": {
      "text/plain": [
       "LogisticRegression()"
      ]
     },
     "execution_count": 6,
     "metadata": {},
     "output_type": "execute_result"
    }
   ],
   "source": [
    "lr = LogisticRegression(max_iter = 100)\n",
    "lr.fit(X_train, y_train)"
   ]
  },
  {
   "cell_type": "markdown",
   "metadata": {},
   "source": [
    "## Making predictions\n",
    "At this point `lr` is a trained classifier and we can make predictions using it.\n",
    "The method `predict_proba` returns the probability of each class guessed by the classifier.\n",
    "Since `predict_proba` returns a $|Te|\\times2$ matrix, we are only interested in a vector of probabilities concerning the second element of the vector (which corresponds to the probability of the istance to be in the second class)"
   ]
  },
  {
   "cell_type": "code",
   "execution_count": 7,
   "metadata": {},
   "outputs": [],
   "source": [
    "probs = lr.predict_proba(X_test)[:, 1]"
   ]
  },
  {
   "cell_type": "markdown",
   "metadata": {},
   "source": [
    "## Evaluating FP, TP and accuracy\n",
    "Here we define some functions to compute common indicators such as *true/false positives* and *accuracy*"
   ]
  },
  {
   "cell_type": "code",
   "execution_count": 8,
   "metadata": {},
   "outputs": [],
   "source": [
    "# Given two vectors containing true labels and predicted labels, compute true positives and false positives\n",
    "def eval_fp_tp(actual, predicted):\n",
    "    tp = np.logical_and(predicted, actual)\n",
    "    fp = np.logical_and(predicted, np.logical_not(actual))\n",
    "    return (sum(fp), sum(tp))"
   ]
  },
  {
   "cell_type": "code",
   "execution_count": 9,
   "metadata": {},
   "outputs": [],
   "source": [
    "# Define the function to calculate the accuracy\n",
    "def eval_accuracy(actual, predicted):\n",
    "    fp, tp = eval_fp_tp(actual, predicted)\n",
    "    return (tp + (Neg - fp)) / len(actual)"
   ]
  },
  {
   "cell_type": "markdown",
   "metadata": {},
   "source": [
    "## fp,tp and accuracy evaluations for different thresholds\n",
    "\n",
    "Given the scores for the test cases, we might want to find the best possible threshold for classification, i.e., the real value $t$ such that `scores >` $t$ gives the best classification of the examples. \n",
    "\n",
    "Let us then start to consider 100 possible thresholds in the range $[0,1]$:"
   ]
  },
  {
   "cell_type": "code",
   "execution_count": 10,
   "metadata": {},
   "outputs": [],
   "source": [
    "# This is the same as\n",
    "# [i/100 | i <- [0..100]]\n",
    "thresholds = [i/100.0 for i in range(0,100)]"
   ]
  },
  {
   "cell_type": "markdown",
   "metadata": {},
   "source": [
    "and compute the tp, fp, and accuracy values of the labelings obtained by comparing the scores with those thresholds."
   ]
  },
  {
   "cell_type": "code",
   "execution_count": 11,
   "metadata": {},
   "outputs": [],
   "source": [
    "fps, tps, performances = [], [], []\n",
    "accuracy = 0\n",
    "\n",
    "for t in thresholds:\n",
    "    predicted_pos = probs > t\n",
    "    fp, tp = eval_fp_tp(y_test, predicted_pos)\n",
    "    fps.append(fp)\n",
    "    tps.append(tp)\n",
    "    accuracy = eval_accuracy(y_test, predicted_pos)\n",
    "    performances.append((accuracy, t, fp, tp))\n",
    "performances = np.array(performances)"
   ]
  },
  {
   "cell_type": "markdown",
   "metadata": {},
   "source": [
    "# Plotting\n",
    "\n",
    "Let us then start plotting the coverage plot for the obtained classifications."
   ]
  },
  {
   "cell_type": "code",
   "execution_count": 12,
   "metadata": {},
   "outputs": [
    {
     "data": {
      "text/plain": [
       "[<matplotlib.lines.Line2D at 0x7fe4106e9730>]"
      ]
     },
     "execution_count": 12,
     "metadata": {},
     "output_type": "execute_result"
    },
    {
     "data": {
      "image/png": "[encoded data removed]",
      "text/plain": [
       "<Figure size 432x288 with 1 Axes>"
      ]
     },
     "metadata": {
      "needs_background": "light"
     },
     "output_type": "display_data"
    }
   ],
   "source": [
    "plt.plot(fps, tps)"
   ]
  },
  {
   "cell_type": "markdown",
   "metadata": {},
   "source": [
    "# Checking performances for threshold 0.5\n",
    "\n",
    "The predict_proba method we used to get the score returns the probability that examples belong to the positive class. Usually the positive class is then predicted as score > 0.5 (since in this case it is the one with the largest likelihood).\n",
    "\n",
    "Let's then see where this classifier (i.e., the one obtained setting the threshold to 0.5) lays in the coverage plot and if there are better options.\n",
    "\n",
    "**note**: since we saved interesting stats in the `performances` array, we can retrieve the fp, tp position of the classifier we get by setting the thresholds to 0.5, by finding the position of the row we are interested using the expression: `performances[:,1] == 0.5` and then using the resulting boolean vector to retrieve the correct row of the matrix: `performances[performances[:,1] == 0.5]`."
   ]
  },
  {
   "cell_type": "code",
   "execution_count": 55,
   "metadata": {},
   "outputs": [
    {
     "data": {
      "text/plain": [
       "[<matplotlib.lines.Line2D at 0x7fbae584c5b0>]"
      ]
     },
     "execution_count": 55,
     "metadata": {},
     "output_type": "execute_result"
    },
    {
     "data": {
      "image/png": "[encoded data removed]",
      "text/plain": [
       "<Figure size 432x288 with 1 Axes>"
      ]
     },
     "metadata": {
      "needs_background": "light"
     },
     "output_type": "display_data"
    }
   ],
   "source": [
    "plt.plot(fps, tps)\n",
    "accuracy, threshold, fp, tp = performances[performances[:,1] == 0.5][0]\n",
    "plt.scatter(fp,tp,color='red')\n",
    "plt.plot([fp-10,fp+10],[tp-10,tp+10], color=\"red\")"
   ]
  },
  {
   "cell_type": "markdown",
   "metadata": {},
   "source": [
    "As it is shown by the red dot and the red line, threshold 0.5 is a good one, but apparently two other points can reach a better classification.\n",
    "\n",
    "Let us see where these point lay in the plot and what is their accuracy."
   ]
  },
  {
   "cell_type": "code",
   "execution_count": 57,
   "metadata": {},
   "outputs": [
    {
     "data": {
      "text/plain": [
       "array([[9.68085106e-01, 8.00000000e-02, 6.00000000e+00, 1.21000000e+02],\n",
       "       [9.68085106e-01, 9.00000000e-02, 6.00000000e+00, 1.21000000e+02],\n",
       "       [9.68085106e-01, 1.00000000e-01, 6.00000000e+00, 1.21000000e+02],\n",
       "       [9.68085106e-01, 1.10000000e-01, 6.00000000e+00, 1.21000000e+02],\n",
       "       [9.68085106e-01, 1.20000000e-01, 6.00000000e+00, 1.21000000e+02],\n",
       "       [9.68085106e-01, 1.30000000e-01, 6.00000000e+00, 1.21000000e+02],\n",
       "       [9.68085106e-01, 1.40000000e-01, 6.00000000e+00, 1.21000000e+02],\n",
       "       [9.68085106e-01, 1.50000000e-01, 6.00000000e+00, 1.21000000e+02],\n",
       "       [9.68085106e-01, 1.60000000e-01, 6.00000000e+00, 1.21000000e+02],\n",
       "       [9.73404255e-01, 1.70000000e-01, 5.00000000e+00, 1.21000000e+02],\n",
       "       [9.73404255e-01, 1.80000000e-01, 5.00000000e+00, 1.21000000e+02],\n",
       "       [9.73404255e-01, 1.90000000e-01, 5.00000000e+00, 1.21000000e+02],\n",
       "       [9.68085106e-01, 2.00000000e-01, 5.00000000e+00, 1.20000000e+02],\n",
       "       [9.68085106e-01, 2.10000000e-01, 5.00000000e+00, 1.20000000e+02],\n",
       "       [9.68085106e-01, 2.20000000e-01, 5.00000000e+00, 1.20000000e+02],\n",
       "       [9.68085106e-01, 2.30000000e-01, 5.00000000e+00, 1.20000000e+02],\n",
       "       [9.68085106e-01, 2.40000000e-01, 5.00000000e+00, 1.20000000e+02],\n",
       "       [9.68085106e-01, 2.50000000e-01, 5.00000000e+00, 1.20000000e+02],\n",
       "       [9.68085106e-01, 2.60000000e-01, 5.00000000e+00, 1.20000000e+02],\n",
       "       [9.68085106e-01, 5.20000000e-01, 3.00000000e+00, 1.18000000e+02],\n",
       "       [9.68085106e-01, 5.30000000e-01, 3.00000000e+00, 1.18000000e+02],\n",
       "       [9.68085106e-01, 5.50000000e-01, 2.00000000e+00, 1.17000000e+02],\n",
       "       [9.68085106e-01, 5.60000000e-01, 2.00000000e+00, 1.17000000e+02],\n",
       "       [9.68085106e-01, 5.70000000e-01, 2.00000000e+00, 1.17000000e+02],\n",
       "       [9.68085106e-01, 5.80000000e-01, 2.00000000e+00, 1.17000000e+02],\n",
       "       [9.68085106e-01, 5.90000000e-01, 2.00000000e+00, 1.17000000e+02],\n",
       "       [9.68085106e-01, 6.00000000e-01, 2.00000000e+00, 1.17000000e+02],\n",
       "       [9.68085106e-01, 6.10000000e-01, 2.00000000e+00, 1.17000000e+02],\n",
       "       [9.73404255e-01, 6.20000000e-01, 1.00000000e+00, 1.17000000e+02],\n",
       "       [9.73404255e-01, 6.30000000e-01, 1.00000000e+00, 1.17000000e+02],\n",
       "       [9.73404255e-01, 6.40000000e-01, 1.00000000e+00, 1.17000000e+02],\n",
       "       [9.73404255e-01, 6.50000000e-01, 1.00000000e+00, 1.17000000e+02],\n",
       "       [9.73404255e-01, 6.60000000e-01, 1.00000000e+00, 1.17000000e+02],\n",
       "       [9.73404255e-01, 6.70000000e-01, 1.00000000e+00, 1.17000000e+02],\n",
       "       [9.73404255e-01, 6.80000000e-01, 1.00000000e+00, 1.17000000e+02],\n",
       "       [9.73404255e-01, 6.90000000e-01, 1.00000000e+00, 1.17000000e+02],\n",
       "       [9.68085106e-01, 7.00000000e-01, 1.00000000e+00, 1.16000000e+02],\n",
       "       [9.68085106e-01, 7.10000000e-01, 1.00000000e+00, 1.16000000e+02]])"
      ]
     },
     "execution_count": 57,
     "metadata": {},
     "output_type": "execute_result"
    }
   ],
   "source": [
    "# Note: the subscription returns a matrix with a single row, but still two dimensions, \n",
    "# we need to get the element in the first position of that matrix...\n",
    "\n",
    "perf05 = performances[performances[:, 1] == 0.5][0,0] \n",
    "performances[performances[:,0] > perf05]"
   ]
  },
  {
   "cell_type": "markdown",
   "metadata": {},
   "source": [
    "The two points that we are looking for are then in position (5,121) and (1,117), since they are the points associated with the maximum accuracy"
   ]
  },
  {
   "cell_type": "code",
   "execution_count": 36,
   "metadata": {},
   "outputs": [
    {
     "data": {
      "text/plain": [
       "[<matplotlib.lines.Line2D at 0x7fbae59cb1f0>]"
      ]
     },
     "execution_count": 36,
     "metadata": {},
     "output_type": "execute_result"
    },
    {
     "data": {
      "image/png": "[encoded data removed]",
      "text/plain": [
       "<Figure size 432x288 with 1 Axes>"
      ]
     },
     "metadata": {
      "needs_background": "light"
     },
     "output_type": "display_data"
    }
   ],
   "source": [
    "plt.plot(fps, tps)\n",
    "fp, tp = eval_fp_tp(y_test, probs > 0.5)\n",
    "plt.scatter(fp,tp, color=\"red\")\n",
    "plt.scatter(5,121, color=\"orange\")\n",
    "plt.scatter(1,117, color=\"orange\")\n",
    "plt.plot([fp-10,fp+10],[tp-10,tp+10], color=\"red\")"
   ]
  },
  {
   "cell_type": "markdown",
   "metadata": {},
   "source": [
    "These two points (that we found by looking only to the accuracies) are indeed the two points that the plot show having a better accuracy. "
   ]
  }
 ],
 "metadata": {
  "interpreter": {
   "hash": "b158a76baa008a97570526d1e0142947afb7528810c9b95cb06274973f5cc288"
  },
  "kernelspec": {
   "display_name": "Python 3",
   "language": "python",
   "name": "python3"
  },
  "language_info": {
   "codemirror_mode": {
    "name": "ipython",
    "version": 3
   },
   "file_extension": ".py",
   "mimetype": "text/x-python",
   "name": "python",
   "nbconvert_exporter": "python",
   "pygments_lexer": "ipython3",
   "version": "3.8.9"
  }
 },
 "nbformat": 4,
 "nbformat_minor": 2
}
