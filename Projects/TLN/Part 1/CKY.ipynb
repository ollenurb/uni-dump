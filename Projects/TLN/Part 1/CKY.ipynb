{
  "cells": [
    {
      "cell_type": "markdown",
      "metadata": {
        "id": "P0iBtDyEzgAu"
      },
      "source": [
        "# Esercitazione di Tecnologie del Linguaggio Naturale - Parte Prima (prof. Mazzei)"
      ]
    },
    {
      "cell_type": "markdown",
      "source": [
        "Studenti:\n",
        "\n",
        "- Brunello Matteo (mat. 858867)\n",
        "- Caresio Lorenzo (mat. 836021)"
      ],
      "metadata": {
        "id": "9wThPio548st"
      }
    },
    {
      "cell_type": "markdown",
      "source": [
        "## 1A. Algoritmo CKY"
      ],
      "metadata": {
        "id": "3f_vmOEzDBlt"
      }
    },
    {
      "cell_type": "markdown",
      "metadata": {
        "id": "Jho424dSUctC"
      },
      "source": [
        "### Strutture dati e rappresentazione\n",
        "\n",
        "Per l'implementazione dell'algoritmo abbiamo in primo luogo definito la tipologia di struttura dati sulla quale CKY dovrà operare. Nello specifico, abbiamo definito la tipologia di cella della\n",
        "matrice (triangolare) che utilizzerà CKY: il contenuto di ogni cella deve permettere di tener traccia delle varie regole considerate dall'algoritmo.\n",
        "\n",
        "\n",
        "Ciò è fondamentale poiché ci permetterà in seguito di fare backtracking e ottenere così le realizzazioni dei vari alberi di parsificazione.\n",
        "Per questa ragione abbiamo definito ogni cella della matrice come una lista di `Entry`. Il tipo `Entry` è un [tipo somma](https://en.wikipedia.org/wiki/Tagged_union) che può essere `Terminal` oppure `NonTerminal`. Il primo rappresenta una regola che ha come conseguente un terminale, mentre il secondo rappresenta una regola con due non terminali come conseguente (queste sono infatti le uniche due tipologie di regole ammesse in grammatica in *Chomsky Normal Form*, prerequisito di CKY). Questi due non terminali sono dei puntatori associati a loro volta ad altre entry presenti all'interno della matrice. Come si vedrà in seguito, queste associazioni verranno poi costruite durante l'esecuzione dell'algoritmo."
      ]
    },
    {
      "cell_type": "code",
      "execution_count": 27,
      "metadata": {
        "ExecuteTime": {
          "end_time": "2023-07-31T07:03:44.270828637Z",
          "start_time": "2023-07-31T07:03:43.853324784Z"
        },
        "id": "IF6UCAXy9GCu"
      },
      "outputs": [],
      "source": [
        "# Each table entry will contain a list of Termina and NonTerminal\n",
        "class Entry:\n",
        "  def __init__(self, value):\n",
        "    self.value = value\n",
        "\n",
        "  def get_value(self):\n",
        "    return self.value\n",
        "\n",
        "  def is_start(self):\n",
        "    return self.value == Nonterminal('S')\n",
        "\n",
        "class Terminal(Entry):\n",
        "  def __init__(self, value, word):\n",
        "    self.value = value\n",
        "    self.word = word\n",
        "\n",
        "  def __repr__(self):\n",
        "    return f'({self.value} {self.word})'\n",
        "\n",
        "class NonTerminal(Entry):\n",
        "  def __init__(self, value, left, right):\n",
        "    self.value = value\n",
        "    self.left = left\n",
        "    self.right = right\n",
        "\n",
        "  def __repr__(self):\n",
        "    return f'({self.value} {self.left.value} {self.right.value})'"
      ]
    },
    {
      "cell_type": "markdown",
      "source": [
        "### Implementazione"
      ],
      "metadata": {
        "id": "F8KvhpqzebbP"
      }
    },
    {
      "cell_type": "markdown",
      "metadata": {
        "id": "gIeSNhP3N5IW"
      },
      "source": [
        "Dopo aver definito la tipologia di struttura dati, è utile inoltre introdurre alcune funzioni di supporto che implementano alcune operazioni ad alto livello che compaiono nella definizione dell'algoritmo. Più nel dettaglio, definiamo due funzioni rispettivamente per:\n",
        "\n",
        "1. Trovare nella grammatica tutte le regole consistenti con il terminale dato (`find_consistent_terminal`)\n",
        "2. Trovare nella grammatica tutte le regole consistenti con due non terminali dati (`find_consistent_nonterminal`)\n",
        "\n",
        "Si noti che l'implementazione di queste funzioni assume che le grammatiche siano rappresentate come `nltk.grammar.CFG`. In caso la grammatica fornita non sia di questo tipo, si otterrà un errore a runtime dovuto all'assenza di funzioni specifiche."
      ]
    },
    {
      "cell_type": "code",
      "execution_count": 28,
      "metadata": {
        "ExecuteTime": {
          "end_time": "2023-07-31T07:03:44.271369750Z",
          "start_time": "2023-07-31T07:03:43.872652912Z"
        },
        "id": "ueO9BjStPO-Y"
      },
      "outputs": [],
      "source": [
        "from typing import List\n",
        "import nltk\n",
        "\n",
        "def find_consistent_terminal(grammar: nltk.grammar.CFG, terminal: str) -> List[Terminal]:\n",
        "  return map(lambda x: Terminal(x.lhs(), terminal), grammar.productions(rhs = terminal))\n",
        "\n",
        "def find_consistent_nonterminal(grammar: nltk.grammar.CFG, b: NonTerminal, c: NonTerminal) -> List[NonTerminal]:\n",
        "  result = list()\n",
        "\n",
        "  for production in grammar.productions():\n",
        "    if(len(production.rhs()) == 2):\n",
        "      (b_i, c_i) = production.rhs()\n",
        "      # Check for all possible entries in both sets\n",
        "      for entry_b in b:\n",
        "        for entry_c in c:\n",
        "          if b_i == entry_b.get_value() and c_i == entry_c.get_value():\n",
        "            result.append(NonTerminal(production.lhs(), entry_b, entry_c))\n",
        "\n",
        "  return result"
      ]
    },
    {
      "cell_type": "markdown",
      "metadata": {
        "id": "O4qTbcLfQhyL"
      },
      "source": [
        "L'implementazione dell'algoritmo diventa a questo punto molto semplice, poiché segue direttamente dalla definizione in pseudocodice data dal libro. Si noti che nell'implementazione seguente gli indici sono stati rivisti poiché nello pseudocodice la lista delle parole inizia con l'indice $1$, mentre in Python con l'inidice $0$."
      ]
    },
    {
      "cell_type": "code",
      "execution_count": 29,
      "metadata": {
        "ExecuteTime": {
          "end_time": "2023-07-31T07:03:44.272899351Z",
          "start_time": "2023-07-31T07:03:43.888694339Z"
        },
        "id": "wTeQ9gRSN0-j"
      },
      "outputs": [],
      "source": [
        "def cky_parse(words: List[str], grammar: nltk.grammar.CFG) -> List[List[Entry]]:\n",
        "\n",
        "  table = [[[] for i in range(len(words))] for j in range(len(words))]\n",
        "\n",
        "  for j in range(0, len(words)):\n",
        "    table[j][j].extend(find_consistent_terminal(grammar, words[j]))\n",
        "    for i in range(j, -1, -1):\n",
        "      for k in range(i, j):\n",
        "        table[i][j] += find_consistent_nonterminal(grammar, table[i][k], table[k+1][j])\n",
        "\n",
        "  return table"
      ]
    },
    {
      "cell_type": "markdown",
      "metadata": {
        "id": "3QtHjdxAR3Sg"
      },
      "source": [
        "Per definizione, l'algoritmo ritorna una tabella che rappresenta tutte le possibili derivazioni degli alberi di parsificazione. Si avranno tanti alberi tante quante saranno le produzioni con antecedente $S$ (*start symbol*) presenti nella cella alla posizione $[0,\\: len(words)]$. Naturalmente, se tale produzione non compare in quella posizione, la grammatica non copre la frase. Possiamo sfruttare questo fatto per verificare se una frase sia coperta o meno dalla grammatica."
      ]
    },
    {
      "cell_type": "code",
      "execution_count": 30,
      "metadata": {
        "ExecuteTime": {
          "end_time": "2023-07-31T07:03:44.274535257Z",
          "start_time": "2023-07-31T07:03:43.905943161Z"
        },
        "id": "-H1uhu2Nth06"
      },
      "outputs": [],
      "source": [
        "def is_covered(words, grammar):\n",
        "  table = cky_parse(words, grammar)\n",
        "  for entry in table[0][len(words) - 1]:\n",
        "    if entry.is_start():\n",
        "      return True\n",
        "  return False"
      ]
    },
    {
      "cell_type": "markdown",
      "metadata": {
        "id": "TXaZol3yeufT"
      },
      "source": [
        "## 1B. Grammatica L1\n",
        "\n",
        "Come accennato in precedenza, abbiamo deciso di utilizzare il pacchetto `grammar` della libreria `nltk` per rappresentare la grammatica. Per ottenere un'istanza della grammatica è sufficiente utilizzare la funzione di utility `nltk.grammar.CFG.fromstring`."
      ]
    },
    {
      "cell_type": "code",
      "execution_count": 31,
      "metadata": {
        "ExecuteTime": {
          "end_time": "2023-07-31T07:03:44.317171248Z",
          "start_time": "2023-07-31T07:03:43.919067335Z"
        },
        "id": "pF3g-KOYzrcG"
      },
      "outputs": [],
      "source": [
        "from nltk.grammar import CFG, read_grammar, Nonterminal\n",
        "\n",
        "l1_grammar = CFG.fromstring(\n",
        "\"\"\"\n",
        "S -> NP VP\n",
        "S -> X1 VP\n",
        "X1 -> Aux NP\n",
        "S -> \"book\" | \"include\" | \"prefer\"\n",
        "S -> Verb NP\n",
        "S -> X2 PP\n",
        "S -> Verb PP\n",
        "S -> VP PP\n",
        "NP -> \"I\" | \"she\" | \"me\"\n",
        "NP -> \"TWA\" | \"Houston\"\n",
        "NP -> Det Nominal\n",
        "Nominal -> \"book\" | \"flight\" | \"meal\" | \"money\" | \"morning\"\n",
        "Nominal -> Nominal Noun\n",
        "Nominal -> Nominal PP\n",
        "VP -> \"book\" | \"include\" | \"prefer\"\n",
        "VP -> Verb NP\n",
        "VP -> X2 PP\n",
        "X2 -> Verb NP\n",
        "VP -> Verb PP\n",
        "VP -> VP PP\n",
        "PP -> Preposition NP\n",
        "\n",
        "Det -> \"that\" | \"this\" | \"the\" | \"a\"\n",
        "Noun -> \"book\" | \"flight\" | \"meal\" | \"money\" | \"morning\"\n",
        "Verb -> \"book\" | \"include\" | \"prefer\"\n",
        "Pronoun -> \"I\" | \"She\" | \"Me\"\n",
        "Aux -> \"does\"\n",
        "Preposition -> \"from\" | \"to\" | \"on\" | \"near\" | \"through\"\n",
        "\"\"\")"
      ]
    },
    {
      "cell_type": "markdown",
      "source": [
        "Per coprire tutte le frasi assegnate (si veda la sezione successiva) si è dovuta espandere la grammatica fornita dal Jurafsky & Martin, nello specifico per la frase *does she prefer a morning flight*, dove la costruzione *morning flight* non veniva coperta dalla grammatica originale."
      ],
      "metadata": {
        "id": "hu3up3kqC7fN"
      }
    },
    {
      "cell_type": "markdown",
      "metadata": {
        "id": "IfqrVIwmVjVE"
      },
      "source": [
        "### Copertura\n",
        "\n",
        "Avendo ottenuto la rappresentazione della grammatica nel formato corretto (`nltk.grammar.CFG`), è possibile ora testare la copertura delle frasi della consegna utilizzando la funzione da noi implementata `is_covered`. Testiamo anche l'algoritmo con una frase aggiuntiva non coperta dalla grammatica per verificarne ulteriormente la correttezza."
      ]
    },
    {
      "cell_type": "code",
      "execution_count": 32,
      "metadata": {
        "ExecuteTime": {
          "end_time": "2023-07-31T07:03:44.348997051Z",
          "start_time": "2023-07-31T07:03:43.933320968Z"
        },
        "colab": {
          "base_uri": "https://localhost:8080/"
        },
        "id": "0SayobGLViuI",
        "outputId": "83d59116-de7c-4de6-ac85-a49fca4f97e9"
      },
      "outputs": [
        {
          "output_type": "stream",
          "name": "stdout",
          "text": [
            "[\u001b[1m\u001b[92mCOVERED\u001b[0m]: \t \u001b[3m\"does she prefer a morning flight\"\u001b[0m\n",
            "\n",
            "[\u001b[1m\u001b[92mCOVERED\u001b[0m]: \t \u001b[3m\"book the flight through Houston\"\u001b[0m\n",
            "\n",
            "[\u001b[1m\u001b[91mNOT COVERED\u001b[0m]: \t \u001b[3m\"book the flight through Houston to book\"\u001b[0m\n",
            "\n"
          ]
        }
      ],
      "source": [
        "sentences = [\n",
        "    \"does she prefer a morning flight\",\n",
        "    \"book the flight through Houston\",\n",
        "    \"book the flight through Houston to book\"\n",
        "]\n",
        "\n",
        "for sentence in sentences:\n",
        "  result = is_covered(sentence.split(), l1_grammar)\n",
        "  pretty_res = '\\033[92mCOVERED' if result else '\\033[91mNOT COVERED'\n",
        "  print(f'[\\033[1m{pretty_res}\\033[0m]: \\t \\x1B[3m\"{sentence}\"\\033[0m\\n')"
      ]
    },
    {
      "cell_type": "markdown",
      "metadata": {
        "id": "a5a6UdQ4pyJa"
      },
      "source": [
        "### Alberi di parsificazione\n",
        "\n",
        "Precedentemente è stato discusso di come l'algoritmo CKY ritorni in forma tabellare tutti i possibili alberi di parsificazione. Grazie all'implementazione di `Entry` è possibile estrarre tutti gli alberi validi seguendo il percorso dei vari *backpointers* con una visita in profondità, partendo dai nonterminali $S$ presenti nella cella a coordinate $[0,\\: len(words)]$."
      ]
    },
    {
      "cell_type": "code",
      "execution_count": 33,
      "metadata": {
        "ExecuteTime": {
          "end_time": "2023-07-31T07:03:44.351316523Z",
          "start_time": "2023-07-31T07:03:43.946906176Z"
        },
        "id": "5YGBigS2X6Pe"
      },
      "outputs": [],
      "source": [
        "def get_parsing_trees(words, grammar):\n",
        "\n",
        "  parsing_trees = []\n",
        "  table = cky_parse(words, grammar)\n",
        "\n",
        "  for entry in table[0][len(words) - 1]:\n",
        "    # Found an 'S' entry\n",
        "    if entry.is_start():\n",
        "      parsing_tree = []\n",
        "      evaluation_stack = [entry]\n",
        "      # Find the tree\n",
        "      while evaluation_stack:\n",
        "        current_node = evaluation_stack.pop(-1)\n",
        "        match current_node:\n",
        "          case NonTerminal(value = non_terminal, left = left_ptr, right = right_ptr):\n",
        "            parsing_tree.append(current_node)\n",
        "            evaluation_stack.append(left_ptr)\n",
        "            evaluation_stack.append(right_ptr)\n",
        "          case Terminal():\n",
        "            parsing_tree.append(current_node)\n",
        "      # Add the tree\n",
        "      parsing_trees.append(parsing_tree)\n",
        "\n",
        "  return parsing_trees"
      ]
    },
    {
      "cell_type": "markdown",
      "metadata": {
        "id": "SPe2kDX6X57r"
      },
      "source": [
        "Sapendo che la funzione `get_parsing_trees` ritorna una lista di liste in cui ogni lista contiene i nodi di un albero di parsificazione valido, possiamo utilizzare una libreria quale `graphviz` per visualizzare graficamente un albero di parsificazione arbitrario."
      ]
    },
    {
      "cell_type": "code",
      "execution_count": 34,
      "metadata": {
        "ExecuteTime": {
          "end_time": "2023-07-31T07:03:44.352926546Z",
          "start_time": "2023-07-31T07:03:43.963420614Z"
        },
        "id": "QtYSobbAhHvz"
      },
      "outputs": [],
      "source": [
        "import graphviz\n",
        "\n",
        "def print_tree(parsing_tree):\n",
        "  dot = graphviz.Graph()\n",
        "  dot.attr('node', shape='none')\n",
        "\n",
        "  # Add the nodes to the graph\n",
        "  for node in reversed(parsing_tree):\n",
        "    match node:\n",
        "      case NonTerminal(value = non_terminal, left = left_ptr, right = right_ptr):\n",
        "        dot.node(str(id(node)), str(non_terminal))\n",
        "      case Terminal(value = terminal, word = word):\n",
        "        dot.node(str(id(node)), str(terminal))\n",
        "        dot.node(str(id(word)), str(word))\n",
        "\n",
        "  # Add the edges between nodes to the graph\n",
        "  for node in parsing_tree:\n",
        "    match node:\n",
        "      case NonTerminal(value = non_terminal, left = left_ptr, right = right_ptr):\n",
        "        dot.edge(str(id(node)), str(id(left_ptr)))\n",
        "        dot.edge(str(id(node)), str(id(right_ptr)))\n",
        "      case Terminal(value = terminal, word = word):\n",
        "        dot.edge(str(id(node)), str(id(word)))\n",
        "\n",
        "  return dot"
      ]
    },
    {
      "cell_type": "markdown",
      "metadata": {
        "id": "AD3xkDiKy4pB"
      },
      "source": [
        "Utilizziamo ora la funzione definita per visualizzare graficamente il primo albero di parsificazione (in caso esso esista) su una frase specifica (*è possibile cambiare la frase considerata mediante l'apposito controllo. In caso non sia attivo, è necessario ri-valutare la cella seguente*)."
      ]
    },
    {
      "cell_type": "code",
      "execution_count": 35,
      "metadata": {
        "ExecuteTime": {
          "start_time": "2023-07-31T07:03:43.978420112Z"
        },
        "colab": {
          "base_uri": "https://localhost:8080/",
          "height": 623,
          "referenced_widgets": [
            "3e8e13938bc24dcd9380a4d8902f96a4",
            "bdb4f7fe43214f02aa8ab661d6f4a39c",
            "ddaf475fc9844e7c9bf59a5a0e454fc3",
            "d79d303fbd004262ad84e538f2106fbf",
            "d1e90ffa51414233b58154e3abb55155",
            "6fe4f3aa11854decbb19c2fffcfb69fb",
            "3c40add185044cbb9d079d68d7800d01",
            "261e0bd875564ae7b6935921fd30cb88",
            "c2422ad4417e497b98010a2bc4d2dcec",
            "b4330a44303942d9a1fbc1da07ba7c8a",
            "7ee0b2d3a42848d3b340d40287dd59aa",
            "3e2727fae4c244d9ae7b8261da471d0b",
            "a4c01075e726450fb1a52506b7678409",
            "6860344cf0584609bf17bea5d9a08f94"
          ]
        },
        "id": "_SILtQAN0Fg9",
        "is_executing": true,
        "outputId": "ad197647-0b6d-4727-c7f0-b21b443239b5"
      },
      "outputs": [
        {
          "output_type": "display_data",
          "data": {
            "text/plain": [
              "interactive(children=(Dropdown(description='sentence', options=('does she prefer a morning flight', 'book the …"
            ],
            "application/vnd.jupyter.widget-view+json": {
              "version_major": 2,
              "version_minor": 0,
              "model_id": "3e8e13938bc24dcd9380a4d8902f96a4"
            }
          },
          "metadata": {}
        }
      ],
      "source": [
        "from ipywidgets import interactive\n",
        "import ipywidgets as widgets\n",
        "from IPython.display import display\n",
        "\n",
        "def select_tree(tree):\n",
        "  display(print_tree(tree))\n",
        "\n",
        "def select_sentence(sentence):\n",
        "  # get all parsing trees for the given sentence\n",
        "  parsing_trees = get_parsing_trees(sentence.split(), l1_grammar)\n",
        "  # if we have more than 0 parsing trees, show the corresponding control\n",
        "  if not parsing_trees:\n",
        "    print('No parse tree available')\n",
        "  else:\n",
        "    tree_index_control = interactive(select_tree, tree=list(enumerate(parsing_trees)))\n",
        "    display(tree_index_control)\n",
        "\n",
        "interactive(select_sentence, sentence=sentences)"
      ]
    },
    {
      "cell_type": "markdown",
      "source": [
        "Si noti come per frasi sintatticamente ambigue, gli alberi di parsificazione sono molteplici."
      ],
      "metadata": {
        "id": "glQASInc7SR_"
      }
    },
    {
      "cell_type": "markdown",
      "metadata": {
        "id": "c0IkHkUPeoyp"
      },
      "source": [
        "## 1C. Grammatica Klingon\n",
        "\n",
        "Proponiamo ora una grammatica per la lingua Klingon. La metodologia seguita à stata quella di partire creando inizialmente le regole terminali, per poi successivamente creare le regole di composizione grammaticale secondo il Klingon Dictionary.\n",
        "\n",
        "Per questa ragione, la grammatica ottenuta è molto ristretta, poiché copre solamente le frasi fornite. Secondo una prima analisi, è stata quindi ottenuta la seguente Grammatica formale (non in CNF):\n",
        "\n",
        "* $S \\to \\textrm{VP NP}$\n",
        "* $S \\to \\textrm{VP Pronoun}$\n",
        "* $S \\to \\textrm{NP VP}$\n",
        "* $S \\to \\textrm{NP Pronoun}$\n",
        "* $VP \\to \\textrm{NP VP}$\n",
        "* $VP \\to Dajatlh'a' \\mid vIlegh \\mid jIHtaH$\n",
        "* $NP \\to \\textrm{Noun}$\n",
        "* $NP \\to \\textrm{Noun} \\: \\textrm{Noun}$\n",
        "* $NP \\to \\textrm{Pronoun}$\n",
        "* $Noun \\to pa'Daq \\mid puq \\mid tlhIngan \\mid Hol$\n",
        "* $Pronoun \\to jIH \\mid maH$\n",
        "\n",
        "Rispetto all'Inglese, il Klingon è una lingua con *word-order* più frequente oggetto-verbo-soggetto, da questo la presenza di regole di riscrittura con VP come primo non-terminale (rispetto a quelle della grammatica L1 Inglese, dove si ha una maggior frequenza di NP come primo elemento).\n",
        "\n",
        "Altro tratto caratteristico del Klingon è la mancanza del verbo *essere* (cfr. Klingon Dictionary, §6.3), dove però i pronomi possono essere usati come verbi. Così la frase *tlhIngan maH* (corrispondente all'Inglese *We are Klingon*) è composta semplicemente da un sostantivo e da un pronome. Sempre da questo esempio è possibile notare un'altra caratteristica tipica del Klingon: la mancanza di aggettivi.\n",
        "\n",
        "Siccome CKY necessita però della grammatica in CNF, la riporteremo in questa forma seguendo la metodologia di trasformazione proposta dal libro."
      ]
    },
    {
      "cell_type": "code",
      "execution_count": 36,
      "metadata": {
        "ExecuteTime": {
          "end_time": "2023-07-31T07:03:44.358635970Z",
          "start_time": "2023-07-31T07:03:44.071277455Z"
        },
        "id": "sFXlcgDyfnp-"
      },
      "outputs": [],
      "source": [
        "klingon_grammar = CFG.fromstring(\n",
        "\"\"\"\n",
        "S -> VP NP\n",
        "S -> VP Pronoun\n",
        "S -> NP VP1\n",
        "S -> NP Pronoun\n",
        "\n",
        "VP -> NP VP1\n",
        "\n",
        "NP -> \"pa'Daq\" | \"puq\" | \"tlhIngan\" | \"Hol\" | \"jIH\" | \"maH\"\n",
        "NP -> Noun Noun\n",
        "\n",
        "Noun -> \"puq\" | \"tlhIngan\" | \"Hol\"\n",
        "Pronoun -> \"jIH\" | \"maH\"\n",
        "\n",
        "VP1 -> \"Dajatlh'a'\" | \"vIlegh\" | \"jIHtaH\"\n",
        "\"\"\")"
      ]
    },
    {
      "cell_type": "markdown",
      "metadata": {
        "id": "JLyAFPtU93J_"
      },
      "source": [
        "Il terminale VP1 corrisponde ai verbi, si è scelta però questa denominazione rispetto a quella di *Verb* o *V* in quanto i verbi denotati da VP1 non sono semplici verbi ma contengono inoltre particelle e suffissi tipiche del Klingon.\n",
        "\n",
        "Per sicurezza, verifichiamo inoltre che sia in CNF con la funzione apposita di `nltk`."
      ]
    },
    {
      "cell_type": "code",
      "execution_count": 37,
      "metadata": {
        "ExecuteTime": {
          "end_time": "2023-07-31T07:03:44.359028209Z",
          "start_time": "2023-07-31T07:03:44.071879088Z"
        },
        "colab": {
          "base_uri": "https://localhost:8080/"
        },
        "id": "tXHieWAW93KC",
        "outputId": "fc046907-712a-4a9c-9fb8-f91df71d33c1"
      },
      "outputs": [
        {
          "output_type": "execute_result",
          "data": {
            "text/plain": [
              "True"
            ]
          },
          "metadata": {},
          "execution_count": 37
        }
      ],
      "source": [
        "klingon_grammar.is_chomsky_normal_form()"
      ]
    },
    {
      "cell_type": "markdown",
      "source": [
        "### Copertura"
      ],
      "metadata": {
        "id": "xU3jSjoBWqdG"
      }
    },
    {
      "cell_type": "markdown",
      "metadata": {
        "id": "n6t25MGa9-qQ"
      },
      "source": [
        "Così come in precedenza, possiamo ora utilizzare CKY per verificare quali frasi siano coperte dalla grammatica attraverso la funzione `is_covered` da noi implementata."
      ]
    },
    {
      "cell_type": "code",
      "execution_count": 38,
      "metadata": {
        "ExecuteTime": {
          "end_time": "2023-07-31T07:03:44.394482827Z",
          "start_time": "2023-07-31T07:03:44.114484290Z"
        },
        "colab": {
          "base_uri": "https://localhost:8080/"
        },
        "id": "ekohTSX8UXCq",
        "outputId": "1b754d2a-6048-48ee-8455-261f52e47a60"
      },
      "outputs": [
        {
          "output_type": "stream",
          "name": "stdout",
          "text": [
            "[\u001b[1m\u001b[92mCOVERED\u001b[0m]: \t \u001b[3m\"tlhIngan Hol Dajatlh'a'\"\u001b[0m\n",
            "\n",
            "[\u001b[1m\u001b[92mCOVERED\u001b[0m]: \t \u001b[3m\"puq vIlegh jIH\"\u001b[0m\n",
            "\n",
            "[\u001b[1m\u001b[92mCOVERED\u001b[0m]: \t \u001b[3m\"pa'Daq jIHtaH\"\u001b[0m\n",
            "\n",
            "[\u001b[1m\u001b[92mCOVERED\u001b[0m]: \t \u001b[3m\"tlhIngan maH\"\u001b[0m\n",
            "\n"
          ]
        }
      ],
      "source": [
        "sentences = [\n",
        "    \"tlhIngan Hol Dajatlh'a'\", # Do you speak Klingon?\n",
        "    \"puq vIlegh jIH\", # I see the child\n",
        "    \"pa'Daq jIHtaH\", # I'm in the room\n",
        "    \"tlhIngan maH\" # We are Klingon!\n",
        "]\n",
        "\n",
        "for sentence in sentences:\n",
        "  result = is_covered(sentence.split(), klingon_grammar)\n",
        "  pretty_res = '\\033[92mCOVERED' if result else '\\033[91mNOT COVERED'\n",
        "  print(f'[\\033[1m{pretty_res}\\033[0m]: \\t \\x1B[3m\"{sentence}\"\\033[0m\\n')"
      ]
    },
    {
      "cell_type": "markdown",
      "source": [
        "### Alberi di parsificazione"
      ],
      "metadata": {
        "id": "q3jsLz8gWtq2"
      }
    },
    {
      "cell_type": "markdown",
      "metadata": {
        "id": "aWSzc1x5-gfG"
      },
      "source": [
        "Visualizziamo anche i vari alberi di parsificazione ottenuti come fatto in precedenza per la grammatica $L1$."
      ]
    },
    {
      "cell_type": "code",
      "execution_count": 39,
      "metadata": {
        "ExecuteTime": {
          "end_time": "2023-07-31T07:03:44.397211984Z",
          "start_time": "2023-07-31T07:03:44.115845005Z"
        },
        "colab": {
          "base_uri": "https://localhost:8080/",
          "height": 335,
          "referenced_widgets": [
            "4f4f33a99f004f0cacb11db0af5da980",
            "93810f909498470f83963153fc38bc0e",
            "c9f73f814b2e45a5ad2f7d382bfb2a0c",
            "2256194a88144f859cc8e9e28b9d4d0c",
            "3a238babbc0b41648f3f1e66608ba87e",
            "2c725e47552c402986cdb92450854fb9",
            "432e85fe6e4941878d17ab6dd0c6b78b",
            "76d21ba94fd4440fa35d2de1df90a10c",
            "a238c082c3e94a3792e4c91bf720c074",
            "dbce0d305d2340bfa7ce922555709a96",
            "13eef0c183ab4258b7f458a0b8c5982c",
            "31e336cd35c44aa8a80894ed27fe93c4",
            "f77f39bc421a4a3dbd6e5910ec28075a",
            "b62bd2f273a04b9790ea1163e690ba60",
            "5da0eefd246d40de8c58d2f5bbc3e733",
            "68cbc0fc3b4c4417a8ca54338fbd5c88",
            "85b5d9e08b574f1a83e036ce43f05a9f",
            "0b16102b501645ce8c94a540736dd01d",
            "1060b115d5464957b2acfb7c1dc91af1",
            "5c938880cee64c1f9b360cc04c152c28",
            "f9134b0e3e3b4df08259f103a872af1a",
            "38ffcdbd652c42b7acb6f6dda2d79e25",
            "b3f2ae59119b423a8276558a0f87db3d",
            "1ffcd114bfd8442e9d43e26b15473475",
            "5fdafb15af4d4af89cd0a3947dcf63dd",
            "5ac0eb68aaf14beab61f3cf47ad87ff4",
            "aea7e6a2128b429dbb9ac47fca1e5882",
            "0ea5ca91b9d8487fafed61bd94d41e5d",
            "f1d0a39216d44d3faf56274a78165ad4",
            "c48bf76d2d014e6ab9bfb4c4729780b7",
            "bdc6a57089d5494f94e42a449eb443f7",
            "91b5c9603d7c4677b29c5407b7432a1d",
            "4962a096ae834101a0edf1c212c0e301",
            "e1694aa605094f2fa17a02403923a1ff",
            "3bca6fb86fbf4030b7cf9f510a9a0e85"
          ]
        },
        "id": "GxIMT5AF-mOA",
        "outputId": "1133d71b-e53a-4172-cfea-e82ebd55db56"
      },
      "outputs": [
        {
          "output_type": "display_data",
          "data": {
            "text/plain": [
              "interactive(children=(Dropdown(description='sentence', options=(\"tlhIngan Hol Dajatlh'a'\", 'puq vIlegh jIH', \"…"
            ],
            "application/vnd.jupyter.widget-view+json": {
              "version_major": 2,
              "version_minor": 0,
              "model_id": "4f4f33a99f004f0cacb11db0af5da980"
            }
          },
          "metadata": {}
        }
      ],
      "source": [
        "def select_tree(tree):\n",
        "  display(print_tree(tree))\n",
        "\n",
        "def select_sentence(sentence):\n",
        "  parsing_trees = get_parsing_trees(sentence.split(), klingon_grammar)\n",
        "  if not parsing_trees:\n",
        "    print('No parse tree available')\n",
        "  else:\n",
        "    tree_index_control = interactive(select_tree, tree=list(enumerate(parsing_trees)))\n",
        "    display(tree_index_control)\n",
        "\n",
        "interactive(select_sentence, sentence=sentences)"
      ]
    }
  ],
  "metadata": {
    "colab": {
      "provenance": [],
      "toc_visible": true
    },
    "kernelspec": {
      "display_name": "Python 3 (ipykernel)",
      "language": "python",
      "name": "python3"
    },
    "language_info": {
      "name": "python"
    },
    "widgets": {
      "application/vnd.jupyter.widget-state+json": {
        "3e8e13938bc24dcd9380a4d8902f96a4": {
          "model_module": "@jupyter-widgets/controls",
          "model_name": "VBoxModel",
          "model_module_version": "1.5.0",
          "state": {
            "_dom_classes": [
              "widget-interact"
            ],
            "_model_module": "@jupyter-widgets/controls",
            "_model_module_version": "1.5.0",
            "_model_name": "VBoxModel",
            "_view_count": null,
            "_view_module": "@jupyter-widgets/controls",
            "_view_module_version": "1.5.0",
            "_view_name": "VBoxView",
            "box_style": "",
            "children": [
              "IPY_MODEL_bdb4f7fe43214f02aa8ab661d6f4a39c",
              "IPY_MODEL_ddaf475fc9844e7c9bf59a5a0e454fc3"
            ],
            "layout": "IPY_MODEL_d79d303fbd004262ad84e538f2106fbf"
          }
        },
        "bdb4f7fe43214f02aa8ab661d6f4a39c": {
          "model_module": "@jupyter-widgets/controls",
          "model_name": "DropdownModel",
          "model_module_version": "1.5.0",
          "state": {
            "_dom_classes": [],
            "_model_module": "@jupyter-widgets/controls",
            "_model_module_version": "1.5.0",
            "_model_name": "DropdownModel",
            "_options_labels": [
              "does she prefer a morning flight",
              "book the flight through Houston",
              "book the flight through Houston to book"
            ],
            "_view_count": null,
            "_view_module": "@jupyter-widgets/controls",
            "_view_module_version": "1.5.0",
            "_view_name": "DropdownView",
            "description": "sentence",
            "description_tooltip": null,
            "disabled": false,
            "index": 0,
            "layout": "IPY_MODEL_d1e90ffa51414233b58154e3abb55155",
            "style": "IPY_MODEL_6fe4f3aa11854decbb19c2fffcfb69fb"
          }
        },
        "ddaf475fc9844e7c9bf59a5a0e454fc3": {
          "model_module": "@jupyter-widgets/output",
          "model_name": "OutputModel",
          "model_module_version": "1.0.0",
          "state": {
            "_dom_classes": [],
            "_model_module": "@jupyter-widgets/output",
            "_model_module_version": "1.0.0",
            "_model_name": "OutputModel",
            "_view_count": null,
            "_view_module": "@jupyter-widgets/output",
            "_view_module_version": "1.0.0",
            "_view_name": "OutputView",
            "layout": "IPY_MODEL_261e0bd875564ae7b6935921fd30cb88",
            "msg_id": "",
            "outputs": [
              {
                "output_type": "display_data",
                "data": {
                  "text/plain": "interactive(children=(Dropdown(description='tree', options=((0, [(S X1 VP), (VP Verb NP), (NP Det Nominal), (N…",
                  "application/vnd.jupyter.widget-view+json": {
                    "version_major": 2,
                    "version_minor": 0,
                    "model_id": "3c40add185044cbb9d079d68d7800d01"
                  }
                },
                "metadata": {}
              }
            ]
          }
        },
        "d79d303fbd004262ad84e538f2106fbf": {
          "model_module": "@jupyter-widgets/base",
          "model_name": "LayoutModel",
          "model_module_version": "1.2.0",
          "state": {
            "_model_module": "@jupyter-widgets/base",
            "_model_module_version": "1.2.0",
            "_model_name": "LayoutModel",
            "_view_count": null,
            "_view_module": "@jupyter-widgets/base",
            "_view_module_version": "1.2.0",
            "_view_name": "LayoutView",
            "align_content": null,
            "align_items": null,
            "align_self": null,
            "border": null,
            "bottom": null,
            "display": null,
            "flex": null,
            "flex_flow": null,
            "grid_area": null,
            "grid_auto_columns": null,
            "grid_auto_flow": null,
            "grid_auto_rows": null,
            "grid_column": null,
            "grid_gap": null,
            "grid_row": null,
            "grid_template_areas": null,
            "grid_template_columns": null,
            "grid_template_rows": null,
            "height": null,
            "justify_content": null,
            "justify_items": null,
            "left": null,
            "margin": null,
            "max_height": null,
            "max_width": null,
            "min_height": null,
            "min_width": null,
            "object_fit": null,
            "object_position": null,
            "order": null,
            "overflow": null,
            "overflow_x": null,
            "overflow_y": null,
            "padding": null,
            "right": null,
            "top": null,
            "visibility": null,
            "width": null
          }
        },
        "d1e90ffa51414233b58154e3abb55155": {
          "model_module": "@jupyter-widgets/base",
          "model_name": "LayoutModel",
          "model_module_version": "1.2.0",
          "state": {
            "_model_module": "@jupyter-widgets/base",
            "_model_module_version": "1.2.0",
            "_model_name": "LayoutModel",
            "_view_count": null,
            "_view_module": "@jupyter-widgets/base",
            "_view_module_version": "1.2.0",
            "_view_name": "LayoutView",
            "align_content": null,
            "align_items": null,
            "align_self": null,
            "border": null,
            "bottom": null,
            "display": null,
            "flex": null,
            "flex_flow": null,
            "grid_area": null,
            "grid_auto_columns": null,
            "grid_auto_flow": null,
            "grid_auto_rows": null,
            "grid_column": null,
            "grid_gap": null,
            "grid_row": null,
            "grid_template_areas": null,
            "grid_template_columns": null,
            "grid_template_rows": null,
            "height": null,
            "justify_content": null,
            "justify_items": null,
            "left": null,
            "margin": null,
            "max_height": null,
            "max_width": null,
            "min_height": null,
            "min_width": null,
            "object_fit": null,
            "object_position": null,
            "order": null,
            "overflow": null,
            "overflow_x": null,
            "overflow_y": null,
            "padding": null,
            "right": null,
            "top": null,
            "visibility": null,
            "width": null
          }
        },
        "6fe4f3aa11854decbb19c2fffcfb69fb": {
          "model_module": "@jupyter-widgets/controls",
          "model_name": "DescriptionStyleModel",
          "model_module_version": "1.5.0",
          "state": {
            "_model_module": "@jupyter-widgets/controls",
            "_model_module_version": "1.5.0",
            "_model_name": "DescriptionStyleModel",
            "_view_count": null,
            "_view_module": "@jupyter-widgets/base",
            "_view_module_version": "1.2.0",
            "_view_name": "StyleView",
            "description_width": ""
          }
        },
        "3c40add185044cbb9d079d68d7800d01": {
          "model_module": "@jupyter-widgets/controls",
          "model_name": "VBoxModel",
          "model_module_version": "1.5.0",
          "state": {
            "_dom_classes": [
              "widget-interact"
            ],
            "_model_module": "@jupyter-widgets/controls",
            "_model_module_version": "1.5.0",
            "_model_name": "VBoxModel",
            "_view_count": null,
            "_view_module": "@jupyter-widgets/controls",
            "_view_module_version": "1.5.0",
            "_view_name": "VBoxView",
            "box_style": "",
            "children": [
              "IPY_MODEL_c2422ad4417e497b98010a2bc4d2dcec",
              "IPY_MODEL_b4330a44303942d9a1fbc1da07ba7c8a"
            ],
            "layout": "IPY_MODEL_7ee0b2d3a42848d3b340d40287dd59aa"
          }
        },
        "261e0bd875564ae7b6935921fd30cb88": {
          "model_module": "@jupyter-widgets/base",
          "model_name": "LayoutModel",
          "model_module_version": "1.2.0",
          "state": {
            "_model_module": "@jupyter-widgets/base",
            "_model_module_version": "1.2.0",
            "_model_name": "LayoutModel",
            "_view_count": null,
            "_view_module": "@jupyter-widgets/base",
            "_view_module_version": "1.2.0",
            "_view_name": "LayoutView",
            "align_content": null,
            "align_items": null,
            "align_self": null,
            "border": null,
            "bottom": null,
            "display": null,
            "flex": null,
            "flex_flow": null,
            "grid_area": null,
            "grid_auto_columns": null,
            "grid_auto_flow": null,
            "grid_auto_rows": null,
            "grid_column": null,
            "grid_gap": null,
            "grid_row": null,
            "grid_template_areas": null,
            "grid_template_columns": null,
            "grid_template_rows": null,
            "height": null,
            "justify_content": null,
            "justify_items": null,
            "left": null,
            "margin": null,
            "max_height": null,
            "max_width": null,
            "min_height": null,
            "min_width": null,
            "object_fit": null,
            "object_position": null,
            "order": null,
            "overflow": null,
            "overflow_x": null,
            "overflow_y": null,
            "padding": null,
            "right": null,
            "top": null,
            "visibility": null,
            "width": null
          }
        },
        "c2422ad4417e497b98010a2bc4d2dcec": {
          "model_module": "@jupyter-widgets/controls",
          "model_name": "DropdownModel",
          "model_module_version": "1.5.0",
          "state": {
            "_dom_classes": [],
            "_model_module": "@jupyter-widgets/controls",
            "_model_module_version": "1.5.0",
            "_model_name": "DropdownModel",
            "_options_labels": [
              "0"
            ],
            "_view_count": null,
            "_view_module": "@jupyter-widgets/controls",
            "_view_module_version": "1.5.0",
            "_view_name": "DropdownView",
            "description": "tree",
            "description_tooltip": null,
            "disabled": false,
            "index": 0,
            "layout": "IPY_MODEL_3e2727fae4c244d9ae7b8261da471d0b",
            "style": "IPY_MODEL_a4c01075e726450fb1a52506b7678409"
          }
        },
        "b4330a44303942d9a1fbc1da07ba7c8a": {
          "model_module": "@jupyter-widgets/output",
          "model_name": "OutputModel",
          "model_module_version": "1.0.0",
          "state": {
            "_dom_classes": [],
            "_model_module": "@jupyter-widgets/output",
            "_model_module_version": "1.0.0",
            "_model_name": "OutputModel",
            "_view_count": null,
            "_view_module": "@jupyter-widgets/output",
            "_view_module_version": "1.0.0",
            "_view_name": "OutputView",
            "layout": "IPY_MODEL_6860344cf0584609bf17bea5d9a08f94",
            "msg_id": "",
            "outputs": [
              {
                "output_type": "display_data",
                "data": {
                  "image/svg+xml": "<?xml version=\"1.0\" encoding=\"UTF-8\" standalone=\"no\"?>\n<!DOCTYPE svg PUBLIC \"-//W3C//DTD SVG 1.1//EN\"\n \"http://www.w3.org/Graphics/SVG/1.1/DTD/svg11.dtd\">\n<!-- Generated by graphviz version 2.43.0 (0)\n -->\n<!-- Title: %3 Pages: 1 -->\n<svg width=\"434pt\" height=\"404pt\"\n viewBox=\"0.00 0.00 434.00 404.00\" xmlns=\"http://www.w3.org/2000/svg\" xmlns:xlink=\"http://www.w3.org/1999/xlink\">\n<g id=\"graph0\" class=\"graph\" transform=\"scale(1 1) rotate(0) translate(4 400)\">\n<title>%3</title>\n<polygon fill=\"white\" stroke=\"transparent\" points=\"-4,4 -4,-400 430,-400 430,4 -4,4\"/>\n<!-- 136496187694224 -->\n<g id=\"node1\" class=\"node\">\n<title>136496187694224</title>\n<text text-anchor=\"middle\" x=\"27\" y=\"-230.3\" font-family=\"Times,serif\" font-size=\"14.00\">Aux</text>\n</g>\n<!-- 136496187733680 -->\n<g id=\"node2\" class=\"node\">\n<title>136496187733680</title>\n<text text-anchor=\"middle\" x=\"27\" y=\"-158.3\" font-family=\"Times,serif\" font-size=\"14.00\">does</text>\n</g>\n<!-- 136496187694224&#45;&#45;136496187733680 -->\n<g id=\"edge16\" class=\"edge\">\n<title>136496187694224&#45;&#45;136496187733680</title>\n<path fill=\"none\" stroke=\"black\" d=\"M27,-215.7C27,-204.85 27,-190.92 27,-180.1\"/>\n</g>\n<!-- 136496187698832 -->\n<g id=\"node3\" class=\"node\">\n<title>136496187698832</title>\n<text text-anchor=\"middle\" x=\"99\" y=\"-230.3\" font-family=\"Times,serif\" font-size=\"14.00\">NP</text>\n</g>\n<!-- 136496187503984 -->\n<g id=\"node4\" class=\"node\">\n<title>136496187503984</title>\n<text text-anchor=\"middle\" x=\"99\" y=\"-158.3\" font-family=\"Times,serif\" font-size=\"14.00\">she</text>\n</g>\n<!-- 136496187698832&#45;&#45;136496187503984 -->\n<g id=\"edge15\" class=\"edge\">\n<title>136496187698832&#45;&#45;136496187503984</title>\n<path fill=\"none\" stroke=\"black\" d=\"M99,-215.7C99,-204.85 99,-190.92 99,-180.1\"/>\n</g>\n<!-- 136496187701136 -->\n<g id=\"node5\" class=\"node\">\n<title>136496187701136</title>\n<text text-anchor=\"middle\" x=\"99\" y=\"-302.3\" font-family=\"Times,serif\" font-size=\"14.00\">X1</text>\n</g>\n<!-- 136496187701136&#45;&#45;136496187694224 -->\n<g id=\"edge13\" class=\"edge\">\n<title>136496187701136&#45;&#45;136496187694224</title>\n<path fill=\"none\" stroke=\"black\" d=\"M81.2,-287.7C70.04,-276.85 55.71,-262.92 44.59,-252.1\"/>\n</g>\n<!-- 136496187701136&#45;&#45;136496187698832 -->\n<g id=\"edge14\" class=\"edge\">\n<title>136496187701136&#45;&#45;136496187698832</title>\n<path fill=\"none\" stroke=\"black\" d=\"M99,-287.7C99,-276.85 99,-262.92 99,-252.1\"/>\n</g>\n<!-- 136496187696480 -->\n<g id=\"node6\" class=\"node\">\n<title>136496187696480</title>\n<text text-anchor=\"middle\" x=\"171\" y=\"-230.3\" font-family=\"Times,serif\" font-size=\"14.00\">Verb</text>\n</g>\n<!-- 136496187504368 -->\n<g id=\"node7\" class=\"node\">\n<title>136496187504368</title>\n<text text-anchor=\"middle\" x=\"171\" y=\"-158.3\" font-family=\"Times,serif\" font-size=\"14.00\">prefer</text>\n</g>\n<!-- 136496187696480&#45;&#45;136496187504368 -->\n<g id=\"edge12\" class=\"edge\">\n<title>136496187696480&#45;&#45;136496187504368</title>\n<path fill=\"none\" stroke=\"black\" d=\"M171,-215.7C171,-204.85 171,-190.92 171,-180.1\"/>\n</g>\n<!-- 136496187697392 -->\n<g id=\"node8\" class=\"node\">\n<title>136496187697392</title>\n<text text-anchor=\"middle\" x=\"243\" y=\"-158.3\" font-family=\"Times,serif\" font-size=\"14.00\">Det</text>\n</g>\n<!-- 136497428578032 -->\n<g id=\"node9\" class=\"node\">\n<title>136497428578032</title>\n<text text-anchor=\"middle\" x=\"243\" y=\"-86.3\" font-family=\"Times,serif\" font-size=\"14.00\">a</text>\n</g>\n<!-- 136496187697392&#45;&#45;136497428578032 -->\n<g id=\"edge11\" class=\"edge\">\n<title>136496187697392&#45;&#45;136497428578032</title>\n<path fill=\"none\" stroke=\"black\" d=\"M243,-143.7C243,-132.85 243,-118.92 243,-108.1\"/>\n</g>\n<!-- 136496187694512 -->\n<g id=\"node10\" class=\"node\">\n<title>136496187694512</title>\n<text text-anchor=\"middle\" x=\"321\" y=\"-86.3\" font-family=\"Times,serif\" font-size=\"14.00\">Nominal</text>\n</g>\n<!-- 136496187766768 -->\n<g id=\"node11\" class=\"node\">\n<title>136496187766768</title>\n<text text-anchor=\"middle\" x=\"321\" y=\"-14.3\" font-family=\"Times,serif\" font-size=\"14.00\">morning</text>\n</g>\n<!-- 136496187694512&#45;&#45;136496187766768 -->\n<g id=\"edge10\" class=\"edge\">\n<title>136496187694512&#45;&#45;136496187766768</title>\n<path fill=\"none\" stroke=\"black\" d=\"M321,-71.7C321,-60.85 321,-46.92 321,-36.1\"/>\n</g>\n<!-- 136496185835824 -->\n<g id=\"node12\" class=\"node\">\n<title>136496185835824</title>\n<text text-anchor=\"middle\" x=\"399\" y=\"-86.3\" font-family=\"Times,serif\" font-size=\"14.00\">Noun</text>\n</g>\n<!-- 136496185767024 -->\n<g id=\"node13\" class=\"node\">\n<title>136496185767024</title>\n<text text-anchor=\"middle\" x=\"399\" y=\"-14.3\" font-family=\"Times,serif\" font-size=\"14.00\">flight</text>\n</g>\n<!-- 136496185835824&#45;&#45;136496185767024 -->\n<g id=\"edge9\" class=\"edge\">\n<title>136496185835824&#45;&#45;136496185767024</title>\n<path fill=\"none\" stroke=\"black\" d=\"M399,-71.7C399,-60.85 399,-46.92 399,-36.1\"/>\n</g>\n<!-- 136496185836016 -->\n<g id=\"node14\" class=\"node\">\n<title>136496185836016</title>\n<text text-anchor=\"middle\" x=\"321\" y=\"-158.3\" font-family=\"Times,serif\" font-size=\"14.00\">Nominal</text>\n</g>\n<!-- 136496185836016&#45;&#45;136496187694512 -->\n<g id=\"edge7\" class=\"edge\">\n<title>136496185836016&#45;&#45;136496187694512</title>\n<path fill=\"none\" stroke=\"black\" d=\"M321,-143.7C321,-132.85 321,-118.92 321,-108.1\"/>\n</g>\n<!-- 136496185836016&#45;&#45;136496185835824 -->\n<g id=\"edge8\" class=\"edge\">\n<title>136496185836016&#45;&#45;136496185835824</title>\n<path fill=\"none\" stroke=\"black\" d=\"M340.28,-143.7C352.37,-132.85 367.89,-118.92 379.94,-108.1\"/>\n</g>\n<!-- 136496185836112 -->\n<g id=\"node15\" class=\"node\">\n<title>136496185836112</title>\n<text text-anchor=\"middle\" x=\"243\" y=\"-230.3\" font-family=\"Times,serif\" font-size=\"14.00\">NP</text>\n</g>\n<!-- 136496185836112&#45;&#45;136496187697392 -->\n<g id=\"edge5\" class=\"edge\">\n<title>136496185836112&#45;&#45;136496187697392</title>\n<path fill=\"none\" stroke=\"black\" d=\"M243,-215.7C243,-204.85 243,-190.92 243,-180.1\"/>\n</g>\n<!-- 136496185836112&#45;&#45;136496185836016 -->\n<g id=\"edge6\" class=\"edge\">\n<title>136496185836112&#45;&#45;136496185836016</title>\n<path fill=\"none\" stroke=\"black\" d=\"M262.28,-215.7C274.37,-204.85 289.89,-190.92 301.94,-180.1\"/>\n</g>\n<!-- 136496185836304 -->\n<g id=\"node16\" class=\"node\">\n<title>136496185836304</title>\n<text text-anchor=\"middle\" x=\"171\" y=\"-302.3\" font-family=\"Times,serif\" font-size=\"14.00\">VP</text>\n</g>\n<!-- 136496185836304&#45;&#45;136496187696480 -->\n<g id=\"edge3\" class=\"edge\">\n<title>136496185836304&#45;&#45;136496187696480</title>\n<path fill=\"none\" stroke=\"black\" d=\"M171,-287.7C171,-276.85 171,-262.92 171,-252.1\"/>\n</g>\n<!-- 136496185836304&#45;&#45;136496185836112 -->\n<g id=\"edge4\" class=\"edge\">\n<title>136496185836304&#45;&#45;136496185836112</title>\n<path fill=\"none\" stroke=\"black\" d=\"M188.8,-287.7C199.96,-276.85 214.29,-262.92 225.41,-252.1\"/>\n</g>\n<!-- 136496185836592 -->\n<g id=\"node17\" class=\"node\">\n<title>136496185836592</title>\n<text text-anchor=\"middle\" x=\"135\" y=\"-374.3\" font-family=\"Times,serif\" font-size=\"14.00\">S</text>\n</g>\n<!-- 136496185836592&#45;&#45;136496187701136 -->\n<g id=\"edge1\" class=\"edge\">\n<title>136496185836592&#45;&#45;136496187701136</title>\n<path fill=\"none\" stroke=\"black\" d=\"M126.1,-359.7C120.52,-348.85 113.36,-334.92 107.8,-324.1\"/>\n</g>\n<!-- 136496185836592&#45;&#45;136496185836304 -->\n<g id=\"edge2\" class=\"edge\">\n<title>136496185836592&#45;&#45;136496185836304</title>\n<path fill=\"none\" stroke=\"black\" d=\"M143.9,-359.7C149.48,-348.85 156.64,-334.92 162.2,-324.1\"/>\n</g>\n</g>\n</svg>\n",
                  "text/plain": "<graphviz.graphs.Graph at 0x7c247eab84c0>"
                },
                "metadata": {}
              }
            ]
          }
        },
        "7ee0b2d3a42848d3b340d40287dd59aa": {
          "model_module": "@jupyter-widgets/base",
          "model_name": "LayoutModel",
          "model_module_version": "1.2.0",
          "state": {
            "_model_module": "@jupyter-widgets/base",
            "_model_module_version": "1.2.0",
            "_model_name": "LayoutModel",
            "_view_count": null,
            "_view_module": "@jupyter-widgets/base",
            "_view_module_version": "1.2.0",
            "_view_name": "LayoutView",
            "align_content": null,
            "align_items": null,
            "align_self": null,
            "border": null,
            "bottom": null,
            "display": null,
            "flex": null,
            "flex_flow": null,
            "grid_area": null,
            "grid_auto_columns": null,
            "grid_auto_flow": null,
            "grid_auto_rows": null,
            "grid_column": null,
            "grid_gap": null,
            "grid_row": null,
            "grid_template_areas": null,
            "grid_template_columns": null,
            "grid_template_rows": null,
            "height": null,
            "justify_content": null,
            "justify_items": null,
            "left": null,
            "margin": null,
            "max_height": null,
            "max_width": null,
            "min_height": null,
            "min_width": null,
            "object_fit": null,
            "object_position": null,
            "order": null,
            "overflow": null,
            "overflow_x": null,
            "overflow_y": null,
            "padding": null,
            "right": null,
            "top": null,
            "visibility": null,
            "width": null
          }
        },
        "3e2727fae4c244d9ae7b8261da471d0b": {
          "model_module": "@jupyter-widgets/base",
          "model_name": "LayoutModel",
          "model_module_version": "1.2.0",
          "state": {
            "_model_module": "@jupyter-widgets/base",
            "_model_module_version": "1.2.0",
            "_model_name": "LayoutModel",
            "_view_count": null,
            "_view_module": "@jupyter-widgets/base",
            "_view_module_version": "1.2.0",
            "_view_name": "LayoutView",
            "align_content": null,
            "align_items": null,
            "align_self": null,
            "border": null,
            "bottom": null,
            "display": null,
            "flex": null,
            "flex_flow": null,
            "grid_area": null,
            "grid_auto_columns": null,
            "grid_auto_flow": null,
            "grid_auto_rows": null,
            "grid_column": null,
            "grid_gap": null,
            "grid_row": null,
            "grid_template_areas": null,
            "grid_template_columns": null,
            "grid_template_rows": null,
            "height": null,
            "justify_content": null,
            "justify_items": null,
            "left": null,
            "margin": null,
            "max_height": null,
            "max_width": null,
            "min_height": null,
            "min_width": null,
            "object_fit": null,
            "object_position": null,
            "order": null,
            "overflow": null,
            "overflow_x": null,
            "overflow_y": null,
            "padding": null,
            "right": null,
            "top": null,
            "visibility": null,
            "width": null
          }
        },
        "a4c01075e726450fb1a52506b7678409": {
          "model_module": "@jupyter-widgets/controls",
          "model_name": "DescriptionStyleModel",
          "model_module_version": "1.5.0",
          "state": {
            "_model_module": "@jupyter-widgets/controls",
            "_model_module_version": "1.5.0",
            "_model_name": "DescriptionStyleModel",
            "_view_count": null,
            "_view_module": "@jupyter-widgets/base",
            "_view_module_version": "1.2.0",
            "_view_name": "StyleView",
            "description_width": ""
          }
        },
        "6860344cf0584609bf17bea5d9a08f94": {
          "model_module": "@jupyter-widgets/base",
          "model_name": "LayoutModel",
          "model_module_version": "1.2.0",
          "state": {
            "_model_module": "@jupyter-widgets/base",
            "_model_module_version": "1.2.0",
            "_model_name": "LayoutModel",
            "_view_count": null,
            "_view_module": "@jupyter-widgets/base",
            "_view_module_version": "1.2.0",
            "_view_name": "LayoutView",
            "align_content": null,
            "align_items": null,
            "align_self": null,
            "border": null,
            "bottom": null,
            "display": null,
            "flex": null,
            "flex_flow": null,
            "grid_area": null,
            "grid_auto_columns": null,
            "grid_auto_flow": null,
            "grid_auto_rows": null,
            "grid_column": null,
            "grid_gap": null,
            "grid_row": null,
            "grid_template_areas": null,
            "grid_template_columns": null,
            "grid_template_rows": null,
            "height": null,
            "justify_content": null,
            "justify_items": null,
            "left": null,
            "margin": null,
            "max_height": null,
            "max_width": null,
            "min_height": null,
            "min_width": null,
            "object_fit": null,
            "object_position": null,
            "order": null,
            "overflow": null,
            "overflow_x": null,
            "overflow_y": null,
            "padding": null,
            "right": null,
            "top": null,
            "visibility": null,
            "width": null
          }
        },
        "4f4f33a99f004f0cacb11db0af5da980": {
          "model_module": "@jupyter-widgets/controls",
          "model_name": "VBoxModel",
          "model_module_version": "1.5.0",
          "state": {
            "_dom_classes": [
              "widget-interact"
            ],
            "_model_module": "@jupyter-widgets/controls",
            "_model_module_version": "1.5.0",
            "_model_name": "VBoxModel",
            "_view_count": null,
            "_view_module": "@jupyter-widgets/controls",
            "_view_module_version": "1.5.0",
            "_view_name": "VBoxView",
            "box_style": "",
            "children": [
              "IPY_MODEL_93810f909498470f83963153fc38bc0e",
              "IPY_MODEL_c9f73f814b2e45a5ad2f7d382bfb2a0c"
            ],
            "layout": "IPY_MODEL_2256194a88144f859cc8e9e28b9d4d0c"
          }
        },
        "93810f909498470f83963153fc38bc0e": {
          "model_module": "@jupyter-widgets/controls",
          "model_name": "DropdownModel",
          "model_module_version": "1.5.0",
          "state": {
            "_dom_classes": [],
            "_model_module": "@jupyter-widgets/controls",
            "_model_module_version": "1.5.0",
            "_model_name": "DropdownModel",
            "_options_labels": [
              "tlhIngan Hol Dajatlh'a'",
              "puq vIlegh jIH",
              "pa'Daq jIHtaH",
              "tlhIngan maH"
            ],
            "_view_count": null,
            "_view_module": "@jupyter-widgets/controls",
            "_view_module_version": "1.5.0",
            "_view_name": "DropdownView",
            "description": "sentence",
            "description_tooltip": null,
            "disabled": false,
            "index": 3,
            "layout": "IPY_MODEL_3a238babbc0b41648f3f1e66608ba87e",
            "style": "IPY_MODEL_2c725e47552c402986cdb92450854fb9"
          }
        },
        "c9f73f814b2e45a5ad2f7d382bfb2a0c": {
          "model_module": "@jupyter-widgets/output",
          "model_name": "OutputModel",
          "model_module_version": "1.0.0",
          "state": {
            "_dom_classes": [],
            "_model_module": "@jupyter-widgets/output",
            "_model_module_version": "1.0.0",
            "_model_name": "OutputModel",
            "_view_count": null,
            "_view_module": "@jupyter-widgets/output",
            "_view_module_version": "1.0.0",
            "_view_name": "OutputView",
            "layout": "IPY_MODEL_76d21ba94fd4440fa35d2de1df90a10c",
            "msg_id": "",
            "outputs": [
              {
                "output_type": "display_data",
                "data": {
                  "text/plain": "interactive(children=(Dropdown(description='tree', options=((0, [(S NP Pronoun), (Pronoun maH), (NP tlhIngan)]…",
                  "application/vnd.jupyter.widget-view+json": {
                    "version_major": 2,
                    "version_minor": 0,
                    "model_id": "f1d0a39216d44d3faf56274a78165ad4"
                  }
                },
                "metadata": {}
              }
            ]
          }
        },
        "2256194a88144f859cc8e9e28b9d4d0c": {
          "model_module": "@jupyter-widgets/base",
          "model_name": "LayoutModel",
          "model_module_version": "1.2.0",
          "state": {
            "_model_module": "@jupyter-widgets/base",
            "_model_module_version": "1.2.0",
            "_model_name": "LayoutModel",
            "_view_count": null,
            "_view_module": "@jupyter-widgets/base",
            "_view_module_version": "1.2.0",
            "_view_name": "LayoutView",
            "align_content": null,
            "align_items": null,
            "align_self": null,
            "border": null,
            "bottom": null,
            "display": null,
            "flex": null,
            "flex_flow": null,
            "grid_area": null,
            "grid_auto_columns": null,
            "grid_auto_flow": null,
            "grid_auto_rows": null,
            "grid_column": null,
            "grid_gap": null,
            "grid_row": null,
            "grid_template_areas": null,
            "grid_template_columns": null,
            "grid_template_rows": null,
            "height": null,
            "justify_content": null,
            "justify_items": null,
            "left": null,
            "margin": null,
            "max_height": null,
            "max_width": null,
            "min_height": null,
            "min_width": null,
            "object_fit": null,
            "object_position": null,
            "order": null,
            "overflow": null,
            "overflow_x": null,
            "overflow_y": null,
            "padding": null,
            "right": null,
            "top": null,
            "visibility": null,
            "width": null
          }
        },
        "3a238babbc0b41648f3f1e66608ba87e": {
          "model_module": "@jupyter-widgets/base",
          "model_name": "LayoutModel",
          "model_module_version": "1.2.0",
          "state": {
            "_model_module": "@jupyter-widgets/base",
            "_model_module_version": "1.2.0",
            "_model_name": "LayoutModel",
            "_view_count": null,
            "_view_module": "@jupyter-widgets/base",
            "_view_module_version": "1.2.0",
            "_view_name": "LayoutView",
            "align_content": null,
            "align_items": null,
            "align_self": null,
            "border": null,
            "bottom": null,
            "display": null,
            "flex": null,
            "flex_flow": null,
            "grid_area": null,
            "grid_auto_columns": null,
            "grid_auto_flow": null,
            "grid_auto_rows": null,
            "grid_column": null,
            "grid_gap": null,
            "grid_row": null,
            "grid_template_areas": null,
            "grid_template_columns": null,
            "grid_template_rows": null,
            "height": null,
            "justify_content": null,
            "justify_items": null,
            "left": null,
            "margin": null,
            "max_height": null,
            "max_width": null,
            "min_height": null,
            "min_width": null,
            "object_fit": null,
            "object_position": null,
            "order": null,
            "overflow": null,
            "overflow_x": null,
            "overflow_y": null,
            "padding": null,
            "right": null,
            "top": null,
            "visibility": null,
            "width": null
          }
        },
        "2c725e47552c402986cdb92450854fb9": {
          "model_module": "@jupyter-widgets/controls",
          "model_name": "DescriptionStyleModel",
          "model_module_version": "1.5.0",
          "state": {
            "_model_module": "@jupyter-widgets/controls",
            "_model_module_version": "1.5.0",
            "_model_name": "DescriptionStyleModel",
            "_view_count": null,
            "_view_module": "@jupyter-widgets/base",
            "_view_module_version": "1.2.0",
            "_view_name": "StyleView",
            "description_width": ""
          }
        },
        "432e85fe6e4941878d17ab6dd0c6b78b": {
          "model_module": "@jupyter-widgets/controls",
          "model_name": "VBoxModel",
          "model_module_version": "1.5.0",
          "state": {
            "_dom_classes": [
              "widget-interact"
            ],
            "_model_module": "@jupyter-widgets/controls",
            "_model_module_version": "1.5.0",
            "_model_name": "VBoxModel",
            "_view_count": null,
            "_view_module": "@jupyter-widgets/controls",
            "_view_module_version": "1.5.0",
            "_view_name": "VBoxView",
            "box_style": "",
            "children": [
              "IPY_MODEL_a238c082c3e94a3792e4c91bf720c074",
              "IPY_MODEL_dbce0d305d2340bfa7ce922555709a96"
            ],
            "layout": "IPY_MODEL_13eef0c183ab4258b7f458a0b8c5982c"
          }
        },
        "76d21ba94fd4440fa35d2de1df90a10c": {
          "model_module": "@jupyter-widgets/base",
          "model_name": "LayoutModel",
          "model_module_version": "1.2.0",
          "state": {
            "_model_module": "@jupyter-widgets/base",
            "_model_module_version": "1.2.0",
            "_model_name": "LayoutModel",
            "_view_count": null,
            "_view_module": "@jupyter-widgets/base",
            "_view_module_version": "1.2.0",
            "_view_name": "LayoutView",
            "align_content": null,
            "align_items": null,
            "align_self": null,
            "border": null,
            "bottom": null,
            "display": null,
            "flex": null,
            "flex_flow": null,
            "grid_area": null,
            "grid_auto_columns": null,
            "grid_auto_flow": null,
            "grid_auto_rows": null,
            "grid_column": null,
            "grid_gap": null,
            "grid_row": null,
            "grid_template_areas": null,
            "grid_template_columns": null,
            "grid_template_rows": null,
            "height": null,
            "justify_content": null,
            "justify_items": null,
            "left": null,
            "margin": null,
            "max_height": null,
            "max_width": null,
            "min_height": null,
            "min_width": null,
            "object_fit": null,
            "object_position": null,
            "order": null,
            "overflow": null,
            "overflow_x": null,
            "overflow_y": null,
            "padding": null,
            "right": null,
            "top": null,
            "visibility": null,
            "width": null
          }
        },
        "a238c082c3e94a3792e4c91bf720c074": {
          "model_module": "@jupyter-widgets/controls",
          "model_name": "DropdownModel",
          "model_module_version": "1.5.0",
          "state": {
            "_dom_classes": [],
            "_model_module": "@jupyter-widgets/controls",
            "_model_module_version": "1.5.0",
            "_model_name": "DropdownModel",
            "_options_labels": [
              "0"
            ],
            "_view_count": null,
            "_view_module": "@jupyter-widgets/controls",
            "_view_module_version": "1.5.0",
            "_view_name": "DropdownView",
            "description": "tree",
            "description_tooltip": null,
            "disabled": false,
            "index": 0,
            "layout": "IPY_MODEL_31e336cd35c44aa8a80894ed27fe93c4",
            "style": "IPY_MODEL_f77f39bc421a4a3dbd6e5910ec28075a"
          }
        },
        "dbce0d305d2340bfa7ce922555709a96": {
          "model_module": "@jupyter-widgets/output",
          "model_name": "OutputModel",
          "model_module_version": "1.0.0",
          "state": {
            "_dom_classes": [],
            "_model_module": "@jupyter-widgets/output",
            "_model_module_version": "1.0.0",
            "_model_name": "OutputModel",
            "_view_count": null,
            "_view_module": "@jupyter-widgets/output",
            "_view_module_version": "1.0.0",
            "_view_name": "OutputView",
            "layout": "IPY_MODEL_b62bd2f273a04b9790ea1163e690ba60",
            "msg_id": "",
            "outputs": [
              {
                "output_type": "display_data",
                "data": {
                  "image/svg+xml": "<?xml version=\"1.0\" encoding=\"UTF-8\" standalone=\"no\"?>\n<!DOCTYPE svg PUBLIC \"-//W3C//DTD SVG 1.1//EN\"\n \"http://www.w3.org/Graphics/SVG/1.1/DTD/svg11.dtd\">\n<!-- Generated by graphviz version 2.43.0 (0)\n -->\n<!-- Title: %3 Pages: 1 -->\n<svg width=\"227pt\" height=\"260pt\"\n viewBox=\"0.00 0.00 226.50 260.00\" xmlns=\"http://www.w3.org/2000/svg\" xmlns:xlink=\"http://www.w3.org/1999/xlink\">\n<g id=\"graph0\" class=\"graph\" transform=\"scale(1 1) rotate(0) translate(4 256)\">\n<title>%3</title>\n<polygon fill=\"white\" stroke=\"transparent\" points=\"-4,4 -4,-256 222.5,-256 222.5,4 -4,4\"/>\n<!-- 136496187438128 -->\n<g id=\"node1\" class=\"node\">\n<title>136496187438128</title>\n<text text-anchor=\"middle\" x=\"33\" y=\"-86.3\" font-family=\"Times,serif\" font-size=\"14.00\">Noun</text>\n</g>\n<!-- 136496187767536 -->\n<g id=\"node2\" class=\"node\">\n<title>136496187767536</title>\n<text text-anchor=\"middle\" x=\"31\" y=\"-14.3\" font-family=\"Times,serif\" font-size=\"14.00\">tlhIngan</text>\n</g>\n<!-- 136496187438128&#45;&#45;136496187767536 -->\n<g id=\"edge7\" class=\"edge\">\n<title>136496187438128&#45;&#45;136496187767536</title>\n<path fill=\"none\" stroke=\"black\" d=\"M32.51,-71.7C32.2,-60.85 31.8,-46.92 31.49,-36.1\"/>\n</g>\n<!-- 136496187437072 -->\n<g id=\"node3\" class=\"node\">\n<title>136496187437072</title>\n<text text-anchor=\"middle\" x=\"106\" y=\"-86.3\" font-family=\"Times,serif\" font-size=\"14.00\">Noun</text>\n</g>\n<!-- 136496187766704 -->\n<g id=\"node4\" class=\"node\">\n<title>136496187766704</title>\n<text text-anchor=\"middle\" x=\"107\" y=\"-14.3\" font-family=\"Times,serif\" font-size=\"14.00\">Hol</text>\n</g>\n<!-- 136496187437072&#45;&#45;136496187766704 -->\n<g id=\"edge6\" class=\"edge\">\n<title>136496187437072&#45;&#45;136496187766704</title>\n<path fill=\"none\" stroke=\"black\" d=\"M106.25,-71.7C106.4,-60.85 106.6,-46.92 106.76,-36.1\"/>\n</g>\n<!-- 136496187425648 -->\n<g id=\"node5\" class=\"node\">\n<title>136496187425648</title>\n<text text-anchor=\"middle\" x=\"106\" y=\"-158.3\" font-family=\"Times,serif\" font-size=\"14.00\">NP</text>\n</g>\n<!-- 136496187425648&#45;&#45;136496187438128 -->\n<g id=\"edge4\" class=\"edge\">\n<title>136496187425648&#45;&#45;136496187438128</title>\n<path fill=\"none\" stroke=\"black\" d=\"M87.96,-143.7C76.64,-132.85 62.11,-118.92 50.84,-108.1\"/>\n</g>\n<!-- 136496187425648&#45;&#45;136496187437072 -->\n<g id=\"edge5\" class=\"edge\">\n<title>136496187425648&#45;&#45;136496187437072</title>\n<path fill=\"none\" stroke=\"black\" d=\"M106,-143.7C106,-132.85 106,-118.92 106,-108.1\"/>\n</g>\n<!-- 136496187440720 -->\n<g id=\"node6\" class=\"node\">\n<title>136496187440720</title>\n<text text-anchor=\"middle\" x=\"181\" y=\"-158.3\" font-family=\"Times,serif\" font-size=\"14.00\">VP1</text>\n</g>\n<!-- 136496187767600 -->\n<g id=\"node7\" class=\"node\">\n<title>136496187767600</title>\n<text text-anchor=\"middle\" x=\"185\" y=\"-86.3\" font-family=\"Times,serif\" font-size=\"14.00\">Dajatlh&#39;a&#39;</text>\n</g>\n<!-- 136496187440720&#45;&#45;136496187767600 -->\n<g id=\"edge3\" class=\"edge\">\n<title>136496187440720&#45;&#45;136496187767600</title>\n<path fill=\"none\" stroke=\"black\" d=\"M181.99,-143.7C182.61,-132.85 183.4,-118.92 184.02,-108.1\"/>\n</g>\n<!-- 136496187440864 -->\n<g id=\"node8\" class=\"node\">\n<title>136496187440864</title>\n<text text-anchor=\"middle\" x=\"142\" y=\"-230.3\" font-family=\"Times,serif\" font-size=\"14.00\">S</text>\n</g>\n<!-- 136496187440864&#45;&#45;136496187425648 -->\n<g id=\"edge1\" class=\"edge\">\n<title>136496187440864&#45;&#45;136496187425648</title>\n<path fill=\"none\" stroke=\"black\" d=\"M133.1,-215.7C127.52,-204.85 120.36,-190.92 114.8,-180.1\"/>\n</g>\n<!-- 136496187440864&#45;&#45;136496187440720 -->\n<g id=\"edge2\" class=\"edge\">\n<title>136496187440864&#45;&#45;136496187440720</title>\n<path fill=\"none\" stroke=\"black\" d=\"M151.64,-215.7C157.69,-204.85 165.45,-190.92 171.47,-180.1\"/>\n</g>\n</g>\n</svg>\n",
                  "text/plain": "<graphviz.graphs.Graph at 0x7c247ec3dc00>"
                },
                "metadata": {}
              }
            ]
          }
        },
        "13eef0c183ab4258b7f458a0b8c5982c": {
          "model_module": "@jupyter-widgets/base",
          "model_name": "LayoutModel",
          "model_module_version": "1.2.0",
          "state": {
            "_model_module": "@jupyter-widgets/base",
            "_model_module_version": "1.2.0",
            "_model_name": "LayoutModel",
            "_view_count": null,
            "_view_module": "@jupyter-widgets/base",
            "_view_module_version": "1.2.0",
            "_view_name": "LayoutView",
            "align_content": null,
            "align_items": null,
            "align_self": null,
            "border": null,
            "bottom": null,
            "display": null,
            "flex": null,
            "flex_flow": null,
            "grid_area": null,
            "grid_auto_columns": null,
            "grid_auto_flow": null,
            "grid_auto_rows": null,
            "grid_column": null,
            "grid_gap": null,
            "grid_row": null,
            "grid_template_areas": null,
            "grid_template_columns": null,
            "grid_template_rows": null,
            "height": null,
            "justify_content": null,
            "justify_items": null,
            "left": null,
            "margin": null,
            "max_height": null,
            "max_width": null,
            "min_height": null,
            "min_width": null,
            "object_fit": null,
            "object_position": null,
            "order": null,
            "overflow": null,
            "overflow_x": null,
            "overflow_y": null,
            "padding": null,
            "right": null,
            "top": null,
            "visibility": null,
            "width": null
          }
        },
        "31e336cd35c44aa8a80894ed27fe93c4": {
          "model_module": "@jupyter-widgets/base",
          "model_name": "LayoutModel",
          "model_module_version": "1.2.0",
          "state": {
            "_model_module": "@jupyter-widgets/base",
            "_model_module_version": "1.2.0",
            "_model_name": "LayoutModel",
            "_view_count": null,
            "_view_module": "@jupyter-widgets/base",
            "_view_module_version": "1.2.0",
            "_view_name": "LayoutView",
            "align_content": null,
            "align_items": null,
            "align_self": null,
            "border": null,
            "bottom": null,
            "display": null,
            "flex": null,
            "flex_flow": null,
            "grid_area": null,
            "grid_auto_columns": null,
            "grid_auto_flow": null,
            "grid_auto_rows": null,
            "grid_column": null,
            "grid_gap": null,
            "grid_row": null,
            "grid_template_areas": null,
            "grid_template_columns": null,
            "grid_template_rows": null,
            "height": null,
            "justify_content": null,
            "justify_items": null,
            "left": null,
            "margin": null,
            "max_height": null,
            "max_width": null,
            "min_height": null,
            "min_width": null,
            "object_fit": null,
            "object_position": null,
            "order": null,
            "overflow": null,
            "overflow_x": null,
            "overflow_y": null,
            "padding": null,
            "right": null,
            "top": null,
            "visibility": null,
            "width": null
          }
        },
        "f77f39bc421a4a3dbd6e5910ec28075a": {
          "model_module": "@jupyter-widgets/controls",
          "model_name": "DescriptionStyleModel",
          "model_module_version": "1.5.0",
          "state": {
            "_model_module": "@jupyter-widgets/controls",
            "_model_module_version": "1.5.0",
            "_model_name": "DescriptionStyleModel",
            "_view_count": null,
            "_view_module": "@jupyter-widgets/base",
            "_view_module_version": "1.2.0",
            "_view_name": "StyleView",
            "description_width": ""
          }
        },
        "b62bd2f273a04b9790ea1163e690ba60": {
          "model_module": "@jupyter-widgets/base",
          "model_name": "LayoutModel",
          "model_module_version": "1.2.0",
          "state": {
            "_model_module": "@jupyter-widgets/base",
            "_model_module_version": "1.2.0",
            "_model_name": "LayoutModel",
            "_view_count": null,
            "_view_module": "@jupyter-widgets/base",
            "_view_module_version": "1.2.0",
            "_view_name": "LayoutView",
            "align_content": null,
            "align_items": null,
            "align_self": null,
            "border": null,
            "bottom": null,
            "display": null,
            "flex": null,
            "flex_flow": null,
            "grid_area": null,
            "grid_auto_columns": null,
            "grid_auto_flow": null,
            "grid_auto_rows": null,
            "grid_column": null,
            "grid_gap": null,
            "grid_row": null,
            "grid_template_areas": null,
            "grid_template_columns": null,
            "grid_template_rows": null,
            "height": null,
            "justify_content": null,
            "justify_items": null,
            "left": null,
            "margin": null,
            "max_height": null,
            "max_width": null,
            "min_height": null,
            "min_width": null,
            "object_fit": null,
            "object_position": null,
            "order": null,
            "overflow": null,
            "overflow_x": null,
            "overflow_y": null,
            "padding": null,
            "right": null,
            "top": null,
            "visibility": null,
            "width": null
          }
        },
        "5da0eefd246d40de8c58d2f5bbc3e733": {
          "model_module": "@jupyter-widgets/controls",
          "model_name": "VBoxModel",
          "model_module_version": "1.5.0",
          "state": {
            "_dom_classes": [
              "widget-interact"
            ],
            "_model_module": "@jupyter-widgets/controls",
            "_model_module_version": "1.5.0",
            "_model_name": "VBoxModel",
            "_view_count": null,
            "_view_module": "@jupyter-widgets/controls",
            "_view_module_version": "1.5.0",
            "_view_name": "VBoxView",
            "box_style": "",
            "children": [
              "IPY_MODEL_68cbc0fc3b4c4417a8ca54338fbd5c88",
              "IPY_MODEL_85b5d9e08b574f1a83e036ce43f05a9f"
            ],
            "layout": "IPY_MODEL_0b16102b501645ce8c94a540736dd01d"
          }
        },
        "68cbc0fc3b4c4417a8ca54338fbd5c88": {
          "model_module": "@jupyter-widgets/controls",
          "model_name": "DropdownModel",
          "model_module_version": "1.5.0",
          "state": {
            "_dom_classes": [],
            "_model_module": "@jupyter-widgets/controls",
            "_model_module_version": "1.5.0",
            "_model_name": "DropdownModel",
            "_options_labels": [
              "0",
              "1"
            ],
            "_view_count": null,
            "_view_module": "@jupyter-widgets/controls",
            "_view_module_version": "1.5.0",
            "_view_name": "DropdownView",
            "description": "tree",
            "description_tooltip": null,
            "disabled": false,
            "index": 0,
            "layout": "IPY_MODEL_1060b115d5464957b2acfb7c1dc91af1",
            "style": "IPY_MODEL_5c938880cee64c1f9b360cc04c152c28"
          }
        },
        "85b5d9e08b574f1a83e036ce43f05a9f": {
          "model_module": "@jupyter-widgets/output",
          "model_name": "OutputModel",
          "model_module_version": "1.0.0",
          "state": {
            "_dom_classes": [],
            "_model_module": "@jupyter-widgets/output",
            "_model_module_version": "1.0.0",
            "_model_name": "OutputModel",
            "_view_count": null,
            "_view_module": "@jupyter-widgets/output",
            "_view_module_version": "1.0.0",
            "_view_name": "OutputView",
            "layout": "IPY_MODEL_f9134b0e3e3b4df08259f103a872af1a",
            "msg_id": "",
            "outputs": [
              {
                "output_type": "display_data",
                "data": {
                  "image/svg+xml": "<?xml version=\"1.0\" encoding=\"UTF-8\" standalone=\"no\"?>\n<!DOCTYPE svg PUBLIC \"-//W3C//DTD SVG 1.1//EN\"\n \"http://www.w3.org/Graphics/SVG/1.1/DTD/svg11.dtd\">\n<!-- Generated by graphviz version 2.43.0 (0)\n -->\n<!-- Title: %3 Pages: 1 -->\n<svg width=\"206pt\" height=\"260pt\"\n viewBox=\"0.00 0.00 206.00 260.00\" xmlns=\"http://www.w3.org/2000/svg\" xmlns:xlink=\"http://www.w3.org/1999/xlink\">\n<g id=\"graph0\" class=\"graph\" transform=\"scale(1 1) rotate(0) translate(4 256)\">\n<title>%3</title>\n<polygon fill=\"white\" stroke=\"transparent\" points=\"-4,4 -4,-256 202,-256 202,4 -4,4\"/>\n<!-- 136496187906160 -->\n<g id=\"node1\" class=\"node\">\n<title>136496187906160</title>\n<text text-anchor=\"middle\" x=\"27\" y=\"-86.3\" font-family=\"Times,serif\" font-size=\"14.00\">NP</text>\n</g>\n<!-- 136496187457648 -->\n<g id=\"node2\" class=\"node\">\n<title>136496187457648</title>\n<text text-anchor=\"middle\" x=\"27\" y=\"-14.3\" font-family=\"Times,serif\" font-size=\"14.00\">puq</text>\n</g>\n<!-- 136496187906160&#45;&#45;136496187457648 -->\n<g id=\"edge7\" class=\"edge\">\n<title>136496187906160&#45;&#45;136496187457648</title>\n<path fill=\"none\" stroke=\"black\" d=\"M27,-71.7C27,-60.85 27,-46.92 27,-36.1\"/>\n</g>\n<!-- 136496187906016 -->\n<g id=\"node3\" class=\"node\">\n<title>136496187906016</title>\n<text text-anchor=\"middle\" x=\"99\" y=\"-86.3\" font-family=\"Times,serif\" font-size=\"14.00\">VP1</text>\n</g>\n<!-- 136496187468720 -->\n<g id=\"node4\" class=\"node\">\n<title>136496187468720</title>\n<text text-anchor=\"middle\" x=\"99\" y=\"-14.3\" font-family=\"Times,serif\" font-size=\"14.00\">vIlegh</text>\n</g>\n<!-- 136496187906016&#45;&#45;136496187468720 -->\n<g id=\"edge6\" class=\"edge\">\n<title>136496187906016&#45;&#45;136496187468720</title>\n<path fill=\"none\" stroke=\"black\" d=\"M99,-71.7C99,-60.85 99,-46.92 99,-36.1\"/>\n</g>\n<!-- 136496187908944 -->\n<g id=\"node5\" class=\"node\">\n<title>136496187908944</title>\n<text text-anchor=\"middle\" x=\"99\" y=\"-158.3\" font-family=\"Times,serif\" font-size=\"14.00\">VP</text>\n</g>\n<!-- 136496187908944&#45;&#45;136496187906160 -->\n<g id=\"edge4\" class=\"edge\">\n<title>136496187908944&#45;&#45;136496187906160</title>\n<path fill=\"none\" stroke=\"black\" d=\"M81.2,-143.7C70.04,-132.85 55.71,-118.92 44.59,-108.1\"/>\n</g>\n<!-- 136496187908944&#45;&#45;136496187906016 -->\n<g id=\"edge5\" class=\"edge\">\n<title>136496187908944&#45;&#45;136496187906016</title>\n<path fill=\"none\" stroke=\"black\" d=\"M99,-143.7C99,-132.85 99,-118.92 99,-108.1\"/>\n</g>\n<!-- 136496187910336 -->\n<g id=\"node6\" class=\"node\">\n<title>136496187910336</title>\n<text text-anchor=\"middle\" x=\"171\" y=\"-158.3\" font-family=\"Times,serif\" font-size=\"14.00\">NP</text>\n</g>\n<!-- 136496187757872 -->\n<g id=\"node7\" class=\"node\">\n<title>136496187757872</title>\n<text text-anchor=\"middle\" x=\"171\" y=\"-86.3\" font-family=\"Times,serif\" font-size=\"14.00\">jIH</text>\n</g>\n<!-- 136496187910336&#45;&#45;136496187757872 -->\n<g id=\"edge3\" class=\"edge\">\n<title>136496187910336&#45;&#45;136496187757872</title>\n<path fill=\"none\" stroke=\"black\" d=\"M171,-143.7C171,-132.85 171,-118.92 171,-108.1\"/>\n</g>\n<!-- 136496187916240 -->\n<g id=\"node8\" class=\"node\">\n<title>136496187916240</title>\n<text text-anchor=\"middle\" x=\"135\" y=\"-230.3\" font-family=\"Times,serif\" font-size=\"14.00\">S</text>\n</g>\n<!-- 136496187916240&#45;&#45;136496187908944 -->\n<g id=\"edge1\" class=\"edge\">\n<title>136496187916240&#45;&#45;136496187908944</title>\n<path fill=\"none\" stroke=\"black\" d=\"M126.1,-215.7C120.52,-204.85 113.36,-190.92 107.8,-180.1\"/>\n</g>\n<!-- 136496187916240&#45;&#45;136496187910336 -->\n<g id=\"edge2\" class=\"edge\">\n<title>136496187916240&#45;&#45;136496187910336</title>\n<path fill=\"none\" stroke=\"black\" d=\"M143.9,-215.7C149.48,-204.85 156.64,-190.92 162.2,-180.1\"/>\n</g>\n</g>\n</svg>\n",
                  "text/plain": "<graphviz.graphs.Graph at 0x7c247ecb2ef0>"
                },
                "metadata": {}
              }
            ]
          }
        },
        "0b16102b501645ce8c94a540736dd01d": {
          "model_module": "@jupyter-widgets/base",
          "model_name": "LayoutModel",
          "model_module_version": "1.2.0",
          "state": {
            "_model_module": "@jupyter-widgets/base",
            "_model_module_version": "1.2.0",
            "_model_name": "LayoutModel",
            "_view_count": null,
            "_view_module": "@jupyter-widgets/base",
            "_view_module_version": "1.2.0",
            "_view_name": "LayoutView",
            "align_content": null,
            "align_items": null,
            "align_self": null,
            "border": null,
            "bottom": null,
            "display": null,
            "flex": null,
            "flex_flow": null,
            "grid_area": null,
            "grid_auto_columns": null,
            "grid_auto_flow": null,
            "grid_auto_rows": null,
            "grid_column": null,
            "grid_gap": null,
            "grid_row": null,
            "grid_template_areas": null,
            "grid_template_columns": null,
            "grid_template_rows": null,
            "height": null,
            "justify_content": null,
            "justify_items": null,
            "left": null,
            "margin": null,
            "max_height": null,
            "max_width": null,
            "min_height": null,
            "min_width": null,
            "object_fit": null,
            "object_position": null,
            "order": null,
            "overflow": null,
            "overflow_x": null,
            "overflow_y": null,
            "padding": null,
            "right": null,
            "top": null,
            "visibility": null,
            "width": null
          }
        },
        "1060b115d5464957b2acfb7c1dc91af1": {
          "model_module": "@jupyter-widgets/base",
          "model_name": "LayoutModel",
          "model_module_version": "1.2.0",
          "state": {
            "_model_module": "@jupyter-widgets/base",
            "_model_module_version": "1.2.0",
            "_model_name": "LayoutModel",
            "_view_count": null,
            "_view_module": "@jupyter-widgets/base",
            "_view_module_version": "1.2.0",
            "_view_name": "LayoutView",
            "align_content": null,
            "align_items": null,
            "align_self": null,
            "border": null,
            "bottom": null,
            "display": null,
            "flex": null,
            "flex_flow": null,
            "grid_area": null,
            "grid_auto_columns": null,
            "grid_auto_flow": null,
            "grid_auto_rows": null,
            "grid_column": null,
            "grid_gap": null,
            "grid_row": null,
            "grid_template_areas": null,
            "grid_template_columns": null,
            "grid_template_rows": null,
            "height": null,
            "justify_content": null,
            "justify_items": null,
            "left": null,
            "margin": null,
            "max_height": null,
            "max_width": null,
            "min_height": null,
            "min_width": null,
            "object_fit": null,
            "object_position": null,
            "order": null,
            "overflow": null,
            "overflow_x": null,
            "overflow_y": null,
            "padding": null,
            "right": null,
            "top": null,
            "visibility": null,
            "width": null
          }
        },
        "5c938880cee64c1f9b360cc04c152c28": {
          "model_module": "@jupyter-widgets/controls",
          "model_name": "DescriptionStyleModel",
          "model_module_version": "1.5.0",
          "state": {
            "_model_module": "@jupyter-widgets/controls",
            "_model_module_version": "1.5.0",
            "_model_name": "DescriptionStyleModel",
            "_view_count": null,
            "_view_module": "@jupyter-widgets/base",
            "_view_module_version": "1.2.0",
            "_view_name": "StyleView",
            "description_width": ""
          }
        },
        "f9134b0e3e3b4df08259f103a872af1a": {
          "model_module": "@jupyter-widgets/base",
          "model_name": "LayoutModel",
          "model_module_version": "1.2.0",
          "state": {
            "_model_module": "@jupyter-widgets/base",
            "_model_module_version": "1.2.0",
            "_model_name": "LayoutModel",
            "_view_count": null,
            "_view_module": "@jupyter-widgets/base",
            "_view_module_version": "1.2.0",
            "_view_name": "LayoutView",
            "align_content": null,
            "align_items": null,
            "align_self": null,
            "border": null,
            "bottom": null,
            "display": null,
            "flex": null,
            "flex_flow": null,
            "grid_area": null,
            "grid_auto_columns": null,
            "grid_auto_flow": null,
            "grid_auto_rows": null,
            "grid_column": null,
            "grid_gap": null,
            "grid_row": null,
            "grid_template_areas": null,
            "grid_template_columns": null,
            "grid_template_rows": null,
            "height": null,
            "justify_content": null,
            "justify_items": null,
            "left": null,
            "margin": null,
            "max_height": null,
            "max_width": null,
            "min_height": null,
            "min_width": null,
            "object_fit": null,
            "object_position": null,
            "order": null,
            "overflow": null,
            "overflow_x": null,
            "overflow_y": null,
            "padding": null,
            "right": null,
            "top": null,
            "visibility": null,
            "width": null
          }
        },
        "38ffcdbd652c42b7acb6f6dda2d79e25": {
          "model_module": "@jupyter-widgets/controls",
          "model_name": "VBoxModel",
          "model_module_version": "1.5.0",
          "state": {
            "_dom_classes": [
              "widget-interact"
            ],
            "_model_module": "@jupyter-widgets/controls",
            "_model_module_version": "1.5.0",
            "_model_name": "VBoxModel",
            "_view_count": null,
            "_view_module": "@jupyter-widgets/controls",
            "_view_module_version": "1.5.0",
            "_view_name": "VBoxView",
            "box_style": "",
            "children": [
              "IPY_MODEL_b3f2ae59119b423a8276558a0f87db3d",
              "IPY_MODEL_1ffcd114bfd8442e9d43e26b15473475"
            ],
            "layout": "IPY_MODEL_5fdafb15af4d4af89cd0a3947dcf63dd"
          }
        },
        "b3f2ae59119b423a8276558a0f87db3d": {
          "model_module": "@jupyter-widgets/controls",
          "model_name": "DropdownModel",
          "model_module_version": "1.5.0",
          "state": {
            "_dom_classes": [],
            "_model_module": "@jupyter-widgets/controls",
            "_model_module_version": "1.5.0",
            "_model_name": "DropdownModel",
            "_options_labels": [
              "0"
            ],
            "_view_count": null,
            "_view_module": "@jupyter-widgets/controls",
            "_view_module_version": "1.5.0",
            "_view_name": "DropdownView",
            "description": "tree",
            "description_tooltip": null,
            "disabled": false,
            "index": 0,
            "layout": "IPY_MODEL_5ac0eb68aaf14beab61f3cf47ad87ff4",
            "style": "IPY_MODEL_aea7e6a2128b429dbb9ac47fca1e5882"
          }
        },
        "1ffcd114bfd8442e9d43e26b15473475": {
          "model_module": "@jupyter-widgets/output",
          "model_name": "OutputModel",
          "model_module_version": "1.0.0",
          "state": {
            "_dom_classes": [],
            "_model_module": "@jupyter-widgets/output",
            "_model_module_version": "1.0.0",
            "_model_name": "OutputModel",
            "_view_count": null,
            "_view_module": "@jupyter-widgets/output",
            "_view_module_version": "1.0.0",
            "_view_name": "OutputView",
            "layout": "IPY_MODEL_0ea5ca91b9d8487fafed61bd94d41e5d",
            "msg_id": "",
            "outputs": [
              {
                "output_type": "display_data",
                "data": {
                  "image/svg+xml": "<?xml version=\"1.0\" encoding=\"UTF-8\" standalone=\"no\"?>\n<!DOCTYPE svg PUBLIC \"-//W3C//DTD SVG 1.1//EN\"\n \"http://www.w3.org/Graphics/SVG/1.1/DTD/svg11.dtd\">\n<!-- Generated by graphviz version 2.43.0 (0)\n -->\n<!-- Title: %3 Pages: 1 -->\n<svg width=\"134pt\" height=\"188pt\"\n viewBox=\"0.00 0.00 134.00 188.00\" xmlns=\"http://www.w3.org/2000/svg\" xmlns:xlink=\"http://www.w3.org/1999/xlink\">\n<g id=\"graph0\" class=\"graph\" transform=\"scale(1 1) rotate(0) translate(4 184)\">\n<title>%3</title>\n<polygon fill=\"white\" stroke=\"transparent\" points=\"-4,4 -4,-184 130,-184 130,4 -4,4\"/>\n<!-- 136496187909952 -->\n<g id=\"node1\" class=\"node\">\n<title>136496187909952</title>\n<text text-anchor=\"middle\" x=\"27\" y=\"-86.3\" font-family=\"Times,serif\" font-size=\"14.00\">NP</text>\n</g>\n<!-- 136496187817712 -->\n<g id=\"node2\" class=\"node\">\n<title>136496187817712</title>\n<text text-anchor=\"middle\" x=\"27\" y=\"-14.3\" font-family=\"Times,serif\" font-size=\"14.00\">pa&#39;Daq</text>\n</g>\n<!-- 136496187909952&#45;&#45;136496187817712 -->\n<g id=\"edge4\" class=\"edge\">\n<title>136496187909952&#45;&#45;136496187817712</title>\n<path fill=\"none\" stroke=\"black\" d=\"M27,-71.7C27,-60.85 27,-46.92 27,-36.1\"/>\n</g>\n<!-- 136496187172384 -->\n<g id=\"node3\" class=\"node\">\n<title>136496187172384</title>\n<text text-anchor=\"middle\" x=\"99\" y=\"-86.3\" font-family=\"Times,serif\" font-size=\"14.00\">VP1</text>\n</g>\n<!-- 136496187686576 -->\n<g id=\"node4\" class=\"node\">\n<title>136496187686576</title>\n<text text-anchor=\"middle\" x=\"99\" y=\"-14.3\" font-family=\"Times,serif\" font-size=\"14.00\">jIHtaH</text>\n</g>\n<!-- 136496187172384&#45;&#45;136496187686576 -->\n<g id=\"edge3\" class=\"edge\">\n<title>136496187172384&#45;&#45;136496187686576</title>\n<path fill=\"none\" stroke=\"black\" d=\"M99,-71.7C99,-60.85 99,-46.92 99,-36.1\"/>\n</g>\n<!-- 136496187172624 -->\n<g id=\"node5\" class=\"node\">\n<title>136496187172624</title>\n<text text-anchor=\"middle\" x=\"63\" y=\"-158.3\" font-family=\"Times,serif\" font-size=\"14.00\">S</text>\n</g>\n<!-- 136496187172624&#45;&#45;136496187909952 -->\n<g id=\"edge1\" class=\"edge\">\n<title>136496187172624&#45;&#45;136496187909952</title>\n<path fill=\"none\" stroke=\"black\" d=\"M54.1,-143.7C48.52,-132.85 41.36,-118.92 35.8,-108.1\"/>\n</g>\n<!-- 136496187172624&#45;&#45;136496187172384 -->\n<g id=\"edge2\" class=\"edge\">\n<title>136496187172624&#45;&#45;136496187172384</title>\n<path fill=\"none\" stroke=\"black\" d=\"M71.9,-143.7C77.48,-132.85 84.64,-118.92 90.2,-108.1\"/>\n</g>\n</g>\n</svg>\n",
                  "text/plain": "<graphviz.graphs.Graph at 0x7c247ecce6e0>"
                },
                "metadata": {}
              }
            ]
          }
        },
        "5fdafb15af4d4af89cd0a3947dcf63dd": {
          "model_module": "@jupyter-widgets/base",
          "model_name": "LayoutModel",
          "model_module_version": "1.2.0",
          "state": {
            "_model_module": "@jupyter-widgets/base",
            "_model_module_version": "1.2.0",
            "_model_name": "LayoutModel",
            "_view_count": null,
            "_view_module": "@jupyter-widgets/base",
            "_view_module_version": "1.2.0",
            "_view_name": "LayoutView",
            "align_content": null,
            "align_items": null,
            "align_self": null,
            "border": null,
            "bottom": null,
            "display": null,
            "flex": null,
            "flex_flow": null,
            "grid_area": null,
            "grid_auto_columns": null,
            "grid_auto_flow": null,
            "grid_auto_rows": null,
            "grid_column": null,
            "grid_gap": null,
            "grid_row": null,
            "grid_template_areas": null,
            "grid_template_columns": null,
            "grid_template_rows": null,
            "height": null,
            "justify_content": null,
            "justify_items": null,
            "left": null,
            "margin": null,
            "max_height": null,
            "max_width": null,
            "min_height": null,
            "min_width": null,
            "object_fit": null,
            "object_position": null,
            "order": null,
            "overflow": null,
            "overflow_x": null,
            "overflow_y": null,
            "padding": null,
            "right": null,
            "top": null,
            "visibility": null,
            "width": null
          }
        },
        "5ac0eb68aaf14beab61f3cf47ad87ff4": {
          "model_module": "@jupyter-widgets/base",
          "model_name": "LayoutModel",
          "model_module_version": "1.2.0",
          "state": {
            "_model_module": "@jupyter-widgets/base",
            "_model_module_version": "1.2.0",
            "_model_name": "LayoutModel",
            "_view_count": null,
            "_view_module": "@jupyter-widgets/base",
            "_view_module_version": "1.2.0",
            "_view_name": "LayoutView",
            "align_content": null,
            "align_items": null,
            "align_self": null,
            "border": null,
            "bottom": null,
            "display": null,
            "flex": null,
            "flex_flow": null,
            "grid_area": null,
            "grid_auto_columns": null,
            "grid_auto_flow": null,
            "grid_auto_rows": null,
            "grid_column": null,
            "grid_gap": null,
            "grid_row": null,
            "grid_template_areas": null,
            "grid_template_columns": null,
            "grid_template_rows": null,
            "height": null,
            "justify_content": null,
            "justify_items": null,
            "left": null,
            "margin": null,
            "max_height": null,
            "max_width": null,
            "min_height": null,
            "min_width": null,
            "object_fit": null,
            "object_position": null,
            "order": null,
            "overflow": null,
            "overflow_x": null,
            "overflow_y": null,
            "padding": null,
            "right": null,
            "top": null,
            "visibility": null,
            "width": null
          }
        },
        "aea7e6a2128b429dbb9ac47fca1e5882": {
          "model_module": "@jupyter-widgets/controls",
          "model_name": "DescriptionStyleModel",
          "model_module_version": "1.5.0",
          "state": {
            "_model_module": "@jupyter-widgets/controls",
            "_model_module_version": "1.5.0",
            "_model_name": "DescriptionStyleModel",
            "_view_count": null,
            "_view_module": "@jupyter-widgets/base",
            "_view_module_version": "1.2.0",
            "_view_name": "StyleView",
            "description_width": ""
          }
        },
        "0ea5ca91b9d8487fafed61bd94d41e5d": {
          "model_module": "@jupyter-widgets/base",
          "model_name": "LayoutModel",
          "model_module_version": "1.2.0",
          "state": {
            "_model_module": "@jupyter-widgets/base",
            "_model_module_version": "1.2.0",
            "_model_name": "LayoutModel",
            "_view_count": null,
            "_view_module": "@jupyter-widgets/base",
            "_view_module_version": "1.2.0",
            "_view_name": "LayoutView",
            "align_content": null,
            "align_items": null,
            "align_self": null,
            "border": null,
            "bottom": null,
            "display": null,
            "flex": null,
            "flex_flow": null,
            "grid_area": null,
            "grid_auto_columns": null,
            "grid_auto_flow": null,
            "grid_auto_rows": null,
            "grid_column": null,
            "grid_gap": null,
            "grid_row": null,
            "grid_template_areas": null,
            "grid_template_columns": null,
            "grid_template_rows": null,
            "height": null,
            "justify_content": null,
            "justify_items": null,
            "left": null,
            "margin": null,
            "max_height": null,
            "max_width": null,
            "min_height": null,
            "min_width": null,
            "object_fit": null,
            "object_position": null,
            "order": null,
            "overflow": null,
            "overflow_x": null,
            "overflow_y": null,
            "padding": null,
            "right": null,
            "top": null,
            "visibility": null,
            "width": null
          }
        },
        "f1d0a39216d44d3faf56274a78165ad4": {
          "model_module": "@jupyter-widgets/controls",
          "model_name": "VBoxModel",
          "model_module_version": "1.5.0",
          "state": {
            "_dom_classes": [
              "widget-interact"
            ],
            "_model_module": "@jupyter-widgets/controls",
            "_model_module_version": "1.5.0",
            "_model_name": "VBoxModel",
            "_view_count": null,
            "_view_module": "@jupyter-widgets/controls",
            "_view_module_version": "1.5.0",
            "_view_name": "VBoxView",
            "box_style": "",
            "children": [
              "IPY_MODEL_c48bf76d2d014e6ab9bfb4c4729780b7",
              "IPY_MODEL_bdc6a57089d5494f94e42a449eb443f7"
            ],
            "layout": "IPY_MODEL_91b5c9603d7c4677b29c5407b7432a1d"
          }
        },
        "c48bf76d2d014e6ab9bfb4c4729780b7": {
          "model_module": "@jupyter-widgets/controls",
          "model_name": "DropdownModel",
          "model_module_version": "1.5.0",
          "state": {
            "_dom_classes": [],
            "_model_module": "@jupyter-widgets/controls",
            "_model_module_version": "1.5.0",
            "_model_name": "DropdownModel",
            "_options_labels": [
              "0"
            ],
            "_view_count": null,
            "_view_module": "@jupyter-widgets/controls",
            "_view_module_version": "1.5.0",
            "_view_name": "DropdownView",
            "description": "tree",
            "description_tooltip": null,
            "disabled": false,
            "index": 0,
            "layout": "IPY_MODEL_4962a096ae834101a0edf1c212c0e301",
            "style": "IPY_MODEL_e1694aa605094f2fa17a02403923a1ff"
          }
        },
        "bdc6a57089d5494f94e42a449eb443f7": {
          "model_module": "@jupyter-widgets/output",
          "model_name": "OutputModel",
          "model_module_version": "1.0.0",
          "state": {
            "_dom_classes": [],
            "_model_module": "@jupyter-widgets/output",
            "_model_module_version": "1.0.0",
            "_model_name": "OutputModel",
            "_view_count": null,
            "_view_module": "@jupyter-widgets/output",
            "_view_module_version": "1.0.0",
            "_view_name": "OutputView",
            "layout": "IPY_MODEL_3bca6fb86fbf4030b7cf9f510a9a0e85",
            "msg_id": "",
            "outputs": [
              {
                "output_type": "display_data",
                "data": {
                  "image/svg+xml": "<?xml version=\"1.0\" encoding=\"UTF-8\" standalone=\"no\"?>\n<!DOCTYPE svg PUBLIC \"-//W3C//DTD SVG 1.1//EN\"\n \"http://www.w3.org/Graphics/SVG/1.1/DTD/svg11.dtd\">\n<!-- Generated by graphviz version 2.43.0 (0)\n -->\n<!-- Title: %3 Pages: 1 -->\n<svg width=\"146pt\" height=\"188pt\"\n viewBox=\"0.00 0.00 146.00 188.00\" xmlns=\"http://www.w3.org/2000/svg\" xmlns:xlink=\"http://www.w3.org/1999/xlink\">\n<g id=\"graph0\" class=\"graph\" transform=\"scale(1 1) rotate(0) translate(4 184)\">\n<title>%3</title>\n<polygon fill=\"white\" stroke=\"transparent\" points=\"-4,4 -4,-184 142,-184 142,4 -4,4\"/>\n<!-- 136496187694320 -->\n<g id=\"node1\" class=\"node\">\n<title>136496187694320</title>\n<text text-anchor=\"middle\" x=\"31\" y=\"-86.3\" font-family=\"Times,serif\" font-size=\"14.00\">NP</text>\n</g>\n<!-- 136496187618800 -->\n<g id=\"node2\" class=\"node\">\n<title>136496187618800</title>\n<text text-anchor=\"middle\" x=\"31\" y=\"-14.3\" font-family=\"Times,serif\" font-size=\"14.00\">tlhIngan</text>\n</g>\n<!-- 136496187694320&#45;&#45;136496187618800 -->\n<g id=\"edge4\" class=\"edge\">\n<title>136496187694320&#45;&#45;136496187618800</title>\n<path fill=\"none\" stroke=\"black\" d=\"M31,-71.7C31,-60.85 31,-46.92 31,-36.1\"/>\n</g>\n<!-- 136496187696864 -->\n<g id=\"node3\" class=\"node\">\n<title>136496187696864</title>\n<text text-anchor=\"middle\" x=\"107\" y=\"-86.3\" font-family=\"Times,serif\" font-size=\"14.00\">Pronoun</text>\n</g>\n<!-- 136496187585648 -->\n<g id=\"node4\" class=\"node\">\n<title>136496187585648</title>\n<text text-anchor=\"middle\" x=\"107\" y=\"-14.3\" font-family=\"Times,serif\" font-size=\"14.00\">maH</text>\n</g>\n<!-- 136496187696864&#45;&#45;136496187585648 -->\n<g id=\"edge3\" class=\"edge\">\n<title>136496187696864&#45;&#45;136496187585648</title>\n<path fill=\"none\" stroke=\"black\" d=\"M107,-71.7C107,-60.85 107,-46.92 107,-36.1\"/>\n</g>\n<!-- 136496187702000 -->\n<g id=\"node5\" class=\"node\">\n<title>136496187702000</title>\n<text text-anchor=\"middle\" x=\"69\" y=\"-158.3\" font-family=\"Times,serif\" font-size=\"14.00\">S</text>\n</g>\n<!-- 136496187702000&#45;&#45;136496187694320 -->\n<g id=\"edge1\" class=\"edge\">\n<title>136496187702000&#45;&#45;136496187694320</title>\n<path fill=\"none\" stroke=\"black\" d=\"M59.61,-143.7C53.72,-132.85 46.15,-118.92 40.29,-108.1\"/>\n</g>\n<!-- 136496187702000&#45;&#45;136496187696864 -->\n<g id=\"edge2\" class=\"edge\">\n<title>136496187702000&#45;&#45;136496187696864</title>\n<path fill=\"none\" stroke=\"black\" d=\"M78.39,-143.7C84.28,-132.85 91.85,-118.92 97.71,-108.1\"/>\n</g>\n</g>\n</svg>\n",
                  "text/plain": "<graphviz.graphs.Graph at 0x7c247ec7da80>"
                },
                "metadata": {}
              }
            ]
          }
        },
        "91b5c9603d7c4677b29c5407b7432a1d": {
          "model_module": "@jupyter-widgets/base",
          "model_name": "LayoutModel",
          "model_module_version": "1.2.0",
          "state": {
            "_model_module": "@jupyter-widgets/base",
            "_model_module_version": "1.2.0",
            "_model_name": "LayoutModel",
            "_view_count": null,
            "_view_module": "@jupyter-widgets/base",
            "_view_module_version": "1.2.0",
            "_view_name": "LayoutView",
            "align_content": null,
            "align_items": null,
            "align_self": null,
            "border": null,
            "bottom": null,
            "display": null,
            "flex": null,
            "flex_flow": null,
            "grid_area": null,
            "grid_auto_columns": null,
            "grid_auto_flow": null,
            "grid_auto_rows": null,
            "grid_column": null,
            "grid_gap": null,
            "grid_row": null,
            "grid_template_areas": null,
            "grid_template_columns": null,
            "grid_template_rows": null,
            "height": null,
            "justify_content": null,
            "justify_items": null,
            "left": null,
            "margin": null,
            "max_height": null,
            "max_width": null,
            "min_height": null,
            "min_width": null,
            "object_fit": null,
            "object_position": null,
            "order": null,
            "overflow": null,
            "overflow_x": null,
            "overflow_y": null,
            "padding": null,
            "right": null,
            "top": null,
            "visibility": null,
            "width": null
          }
        },
        "4962a096ae834101a0edf1c212c0e301": {
          "model_module": "@jupyter-widgets/base",
          "model_name": "LayoutModel",
          "model_module_version": "1.2.0",
          "state": {
            "_model_module": "@jupyter-widgets/base",
            "_model_module_version": "1.2.0",
            "_model_name": "LayoutModel",
            "_view_count": null,
            "_view_module": "@jupyter-widgets/base",
            "_view_module_version": "1.2.0",
            "_view_name": "LayoutView",
            "align_content": null,
            "align_items": null,
            "align_self": null,
            "border": null,
            "bottom": null,
            "display": null,
            "flex": null,
            "flex_flow": null,
            "grid_area": null,
            "grid_auto_columns": null,
            "grid_auto_flow": null,
            "grid_auto_rows": null,
            "grid_column": null,
            "grid_gap": null,
            "grid_row": null,
            "grid_template_areas": null,
            "grid_template_columns": null,
            "grid_template_rows": null,
            "height": null,
            "justify_content": null,
            "justify_items": null,
            "left": null,
            "margin": null,
            "max_height": null,
            "max_width": null,
            "min_height": null,
            "min_width": null,
            "object_fit": null,
            "object_position": null,
            "order": null,
            "overflow": null,
            "overflow_x": null,
            "overflow_y": null,
            "padding": null,
            "right": null,
            "top": null,
            "visibility": null,
            "width": null
          }
        },
        "e1694aa605094f2fa17a02403923a1ff": {
          "model_module": "@jupyter-widgets/controls",
          "model_name": "DescriptionStyleModel",
          "model_module_version": "1.5.0",
          "state": {
            "_model_module": "@jupyter-widgets/controls",
            "_model_module_version": "1.5.0",
            "_model_name": "DescriptionStyleModel",
            "_view_count": null,
            "_view_module": "@jupyter-widgets/base",
            "_view_module_version": "1.2.0",
            "_view_name": "StyleView",
            "description_width": ""
          }
        },
        "3bca6fb86fbf4030b7cf9f510a9a0e85": {
          "model_module": "@jupyter-widgets/base",
          "model_name": "LayoutModel",
          "model_module_version": "1.2.0",
          "state": {
            "_model_module": "@jupyter-widgets/base",
            "_model_module_version": "1.2.0",
            "_model_name": "LayoutModel",
            "_view_count": null,
            "_view_module": "@jupyter-widgets/base",
            "_view_module_version": "1.2.0",
            "_view_name": "LayoutView",
            "align_content": null,
            "align_items": null,
            "align_self": null,
            "border": null,
            "bottom": null,
            "display": null,
            "flex": null,
            "flex_flow": null,
            "grid_area": null,
            "grid_auto_columns": null,
            "grid_auto_flow": null,
            "grid_auto_rows": null,
            "grid_column": null,
            "grid_gap": null,
            "grid_row": null,
            "grid_template_areas": null,
            "grid_template_columns": null,
            "grid_template_rows": null,
            "height": null,
            "justify_content": null,
            "justify_items": null,
            "left": null,
            "margin": null,
            "max_height": null,
            "max_width": null,
            "min_height": null,
            "min_width": null,
            "object_fit": null,
            "object_position": null,
            "order": null,
            "overflow": null,
            "overflow_x": null,
            "overflow_y": null,
            "padding": null,
            "right": null,
            "top": null,
            "visibility": null,
            "width": null
          }
        }
      }
    }
  },
  "nbformat": 4,
  "nbformat_minor": 0
}